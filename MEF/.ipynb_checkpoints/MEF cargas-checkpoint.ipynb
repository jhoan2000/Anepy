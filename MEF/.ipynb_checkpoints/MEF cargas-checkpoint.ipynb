{
 "cells": [
  {
   "cell_type": "code",
   "execution_count": 1,
   "id": "18f2a77a",
   "metadata": {},
   "outputs": [],
   "source": [
    "import numpy as np\n",
    "from math import cos, sin, radians, sqrt, pi, atan, tan\n"
   ]
  },
  {
   "cell_type": "code",
   "execution_count": 2,
   "id": "0f579c7e",
   "metadata": {},
   "outputs": [],
   "source": [
    "class Elemento():\n",
    "    def __init__(self,elemento, base, altura, moduloElastico, coordenada_xi, coordenada_yi, coordenada_xf, coordenada_yf, conexion):\n",
    "        \n",
    "        self.Elem = elemento\n",
    "        self.b = base\n",
    "        self.h = altura\n",
    "        self.E = moduloElastico\n",
    "        self.cxi = coordenada_xi\n",
    "        self.cyi = coordenada_yi\n",
    "        self.cxf = coordenada_xf\n",
    "        self.cyf = coordenada_yf\n",
    "        self.conex = conexion\n",
    "        # Propiedades del elemento\n",
    "        self.A = self.Area()\n",
    "        self.I = self.Inercia()\n",
    "        self.L = self.Longitud()\n",
    "        self.ang = self.Angulo()\n",
    "        self.l = self.coseno()\n",
    "        self.m = self.seno()\n",
    "    def __str__(self):\n",
    "\n",
    "        print(\"Base: \", self.b)\n",
    "        print(\"Altura: \", self.h)\n",
    "        print(\"Modulo de Elasticidad: \", self.E)\n",
    "        print(\"Coordenadas iniciales: ({},{})\".format(self.cxi, self.cyi))\n",
    "        print(\"Coordenadas finales: ({},{})\".format(self.cxf, self.cyf))\n",
    "        print(\"Area: \", self.A)\n",
    "        print(\"Inercia: \", self.I)\n",
    "        print(\"Longitud: \", self.L)\n",
    "        print(\"\")\n",
    "        print(\"Angulo: \", self.ang)\n",
    "        print(\"Coseno: \", self.l)\n",
    "        print(\"Seno: \", self.m)\n",
    "\n",
    "\n",
    "        return \"\"\n",
    "\n",
    "    # Propiedades del elemento\n",
    "\n",
    "    def Area(self):\n",
    "        return self.b * self.h\n",
    "\n",
    "    def Inercia(self):\n",
    "        return (self.b * self.h**3) / 12\n",
    "\n",
    "    def Longitud(self):\n",
    "        return sqrt((self.cxf - self.cxi)**2 + (self.cyf - self.cyi)**2)\n",
    "\n",
    "    \n",
    "    def Angulo(self):\n",
    "\n",
    "        b = (self.cxf - self.cxi)\n",
    "        h = (self.cyf - self.cyi)\n",
    "        try:\n",
    "            angulo = atan(h/b)*180/pi\n",
    "        except ZeroDivisionError:\n",
    "            angulo = 90\n",
    "        return angulo\n",
    "\n",
    "    def seno(self):\n",
    "        return sin(radians(self.ang))\n",
    "\n",
    "    def coseno(self):\n",
    "        return cos(radians(self.ang))        \n",
    "\n"
   ]
  },
  {
   "cell_type": "code",
   "execution_count": 3,
   "id": "59dee126",
   "metadata": {},
   "outputs": [],
   "source": [
    "\n",
    "E = 1\n",
    "tbl_Elem = [\n",
    "    \n",
    "  # Elem, Ni, Nf, b, h, E,\n",
    "    [\"1\", 1, 2, 40, 40, E],\n",
    "    [\"2\", 2, 3, 40, 40, E],\n",
    "    [\"3\", 3, 4, 40, 40, E],\n",
    "\n",
    "    ]\n",
    "\n",
    "tbl_Nod = [\n",
    "    #Nodo, cx, cy\n",
    "    [1, 0, 0],\n",
    "    [2, 0, 500],\n",
    "    [3, 1000, 767.95],\n",
    "    [4, 1000, 0],\n",
    "\n",
    "    ]\n",
    "        #El, Ni, Nf\n",
    "#print(nodos[:])\n",
    "tbl_Fuer = [\n",
    "    \n",
    "    #Nod, fx, fy, Mz\n",
    "    [2,500, 0, 0],\n",
    "  \n",
    "    ]\n",
    "\n",
    "tbl_Fuer_W = [\n",
    "    #Elem, Li,Lf, Wi, Wf\n",
    "    [\"2\", 0, 1035, -1, -1],\n",
    "\n",
    "    ]\n",
    "\n",
    "tbl_Rest = [\n",
    "        #Tipo de Apoyo, Nodo\n",
    "        # Simple\n",
    "        # Articulado\n",
    "        # Empotrado\n",
    "    [\"Empotrado\", 1],\n",
    "    [\"Empotrado\", 4,],\n",
    "\n",
    "    ]\n",
    "\n",
    "\"\"\"====Diccionarios====\"\"\"\n",
    "# ==============Diccionarios de elementos==================#\n",
    "\n",
    "diccionarioE = {}\n",
    "\n",
    "for i in range(len(tbl_Elem)):\n",
    "    Elem = tbl_Elem[i][0]\n",
    "    Ni = tbl_Elem[i][1]\n",
    "    Nf = tbl_Elem[i][2]\n",
    "    b = tbl_Elem[i][3]\n",
    "    h = tbl_Elem[i][4]\n",
    "    E = tbl_Elem[i][5]   \n",
    "    diccionarioE[Elem] = [Ni, Nf, b, h, E]\n",
    "\n",
    "# ==============Diccionarios de nodos==================#\n",
    "    \n",
    "diccionarioN = {}\n",
    "\n",
    "for i in range(len(tbl_Nod)):\n",
    "    Nod = tbl_Nod[i][0]\n",
    "    cx = tbl_Nod[i][1]\n",
    "    cy = tbl_Nod[i][2]\n",
    "    diccionarioN[Nod] = [cx, cy]\n",
    "    "
   ]
  },
  {
   "cell_type": "code",
   "execution_count": 4,
   "id": "4b38d0a6",
   "metadata": {
    "scrolled": true
   },
   "outputs": [],
   "source": [
    "elementos = [] # Almacena todos los elementos con sus propiedades\n",
    "\n",
    "def ext_elem(): # Elementos fuera del analisis\n",
    "\n",
    "    GDL = []\n",
    "    #########---------->\n",
    "    #Grados de libertad de los nodos\n",
    "    #########---------->\n",
    "    GDL_nodos = {}\n",
    "    for i in range(len(tbl_Nod)):\n",
    "        nodo = tbl_Nod[i][0]\n",
    "        gdl = [nodo*3-3, nodo*3-2, nodo*3-1]\n",
    "        GDL_nodos[nodo] = gdl   \n",
    "\n",
    "    for i in range(len(tbl_Elem)):\n",
    "        b = tbl_Elem[i][3]\n",
    "        h = tbl_Elem[i][4]\n",
    "            \n",
    "        Ele = tbl_Elem[i][0]\n",
    "        Ni = tbl_Elem[i][1]\n",
    "        Nf = tbl_Elem[i][2]\n",
    "        conexion = [Ele, Ni, Nf]\n",
    "        xi = diccionarioN[Ni][0]\n",
    "        yi = diccionarioN[Ni][1]\n",
    "        xf = diccionarioN[Nf][0]\n",
    "        yf = diccionarioN[Nf][1]\n",
    "            \n",
    "        barra = Elemento(Ele,b, h, E, xi, yi, xf, yf, conexion)\n",
    "        elementos.append(barra) # Almacena elemento\n",
    "    return elementos\n",
    "\n",
    "\n",
    "elementos = ext_elem()\n",
    "        "
   ]
  },
  {
   "cell_type": "code",
   "execution_count": null,
   "id": "a084dcc1",
   "metadata": {},
   "outputs": [],
   "source": []
  },
  {
   "cell_type": "code",
   "execution_count": 8,
   "id": "d5d06985",
   "metadata": {
    "scrolled": true
   },
   "outputs": [
    {
     "name": "stdout",
     "output_type": "stream",
     "text": [
      "90\n",
      "125.0\n",
      "[[0, 0.0]]\n",
      "[[0, 0.0], [0, 125.0]]\n",
      "[[0, 0.0], [0, 125.0], [0, 250.0]]\n",
      "[[0, 0.0], [0, 125.0], [0, 250.0], [0, 375.0]]\n",
      "[[0, 0.0], [0, 125.0], [0, 250.0], [0, 375.0], [0, 500.0]]\n",
      "15.000043170758024\n",
      "258.8190973561457\n",
      "[[0.0, 500.0]]\n",
      "[[0.0, 500.0], [250.00000000000003, 566.9875]]\n",
      "[[0.0, 500.0], [250.00000000000003, 566.9875], [500.00000000000006, 633.975]]\n",
      "[[0.0, 500.0], [250.00000000000003, 566.9875], [500.00000000000006, 633.975], [750.0000000000001, 700.9625000000001]]\n",
      "[[0.0, 500.0], [250.00000000000003, 566.9875], [500.00000000000006, 633.975], [750.0000000000001, 700.9625000000001], [1000.0000000000001, 767.95]]\n",
      "90\n",
      "191.9875\n",
      "[[1000, 767.95]]\n",
      "[[1000, 767.95], [1000, 959.9375]]\n",
      "[[1000, 767.95], [1000, 959.9375], [1000, 1151.9250000000002]]\n",
      "[[1000, 767.95], [1000, 959.9375], [1000, 1151.9250000000002], [1000, 1343.9125000000001]]\n",
      "[[1000, 767.95], [1000, 959.9375], [1000, 1151.9250000000002], [1000, 1343.9125000000001], [1000, 1535.9]]\n"
     ]
    }
   ],
   "source": [
    "sub = 4 # Cantidad de subdiviciones que se realizara al elemento\n",
    "Sub_elementos = []\n",
    "coord = []\n",
    "for i in range(len(tbl_Elem)):\n",
    "    coord_p = [] # Guardado parcial\n",
    "    Elemento = elementos[i]\n",
    "    L = Elemento.L\n",
    "    L_unitaria = L/sub\n",
    "    ang = Elemento.ang\n",
    "    print(ang)\n",
    "    print(L_unitaria)\n",
    "    for i in range(sub+1):\n",
    "        #i = i + 1\n",
    "        # Elementos horizontales\n",
    "        if ang == 0: \n",
    "            cy = Elemento.cyi\n",
    "            cx = Elemento.cxi + L_unitaria*i\n",
    "            coord_p.append([cx,cy])\n",
    "        \n",
    "        # Elementos horizontales\n",
    "        elif ang == 90:\n",
    "            cx = Elemento.cxi\n",
    "            cy = Elemento.cyi + L_unitaria*i\n",
    "            coord_p.append([cx,cy])\n",
    "        # Elementos inclinados crecientes\n",
    "        elif ang > 0 and ang < 90:\n",
    "            \"\"\"estos fracmento forman l_uni en un triangulo rectangulo\"\"\"\n",
    "            Ly_uni =  L_unitaria* sqrt(1/(1+(1/(tan(radians(ang))**2)))) # Longitud del fracmento en y\n",
    "            Lx_uni = Ly_uni/tan(radians(ang)) # Longitud del fracmento en x\n",
    "            cx = Elemento.cxi + Lx_uni*i\n",
    "            cy = Elemento.cyi + Ly_uni*i\n",
    "            coord_p.append([cx,cy])\n",
    "        # Elementos inclinados decrecientes\n",
    "        elif ang < 0:\n",
    "            \"\"\"estos fracmento forman l_uni en un triangulo rectangulo\"\"\"\n",
    "            Ly_uni =  L_unitaria* sqrt(1/(1+(1/(tan(radians(ang))**2)))) # Longitud del fracmento en y\n",
    "            Lx_uni = Ly/tan(radians(ang)) # Longitud del fracmento en x\n",
    "            cx = Elemento.cxi - Lx_uni*i\n",
    "            cy = Elemento.cyi - Ly_uni*i\n",
    "            coord_p.append(cx,cy)\n",
    "        #print(coord_p)\n",
    "    coord.append(coord_p)"
   ]
  },
  {
   "cell_type": "code",
   "execution_count": 9,
   "id": "4c42d307",
   "metadata": {},
   "outputs": [
    {
     "data": {
      "text/plain": [
       "[0, 0.0]"
      ]
     },
     "execution_count": 9,
     "metadata": {},
     "output_type": "execute_result"
    }
   ],
   "source": [
    "coord[0][0]"
   ]
  },
  {
   "cell_type": "code",
   "execution_count": 10,
   "id": "c2aa6848",
   "metadata": {},
   "outputs": [
    {
     "name": "stdout",
     "output_type": "stream",
     "text": [
      "[[1, 0, 0.0], [2, 0, 125.0], [3, 0, 250.0], [4, 0, 375.0], [5, 0, 500.0]]\n"
     ]
    }
   ],
   "source": [
    "Nodos = []\n",
    "cont = 0\n",
    "for i in range(len(tbl_Elem)):\n",
    "    Nod_p = []\n",
    "    for j in range(sub+1):\n",
    "        cont = cont + 1\n",
    "        cx = coord[i][j][0]\n",
    "        cy = coord[i][j][1]\n",
    "        Nod_p.append([cont, cx, cy])\n",
    "    Nodos.append(Nod_p)\n",
    "print(Nodos[0])"
   ]
  },
  {
   "cell_type": "code",
   "execution_count": 11,
   "id": "1f8aedec",
   "metadata": {},
   "outputs": [
    {
     "name": "stdout",
     "output_type": "stream",
     "text": [
      "1\n"
     ]
    }
   ],
   "source": [
    "print(Nodos[0][0][0])"
   ]
  },
  {
   "cell_type": "code",
   "execution_count": 13,
   "id": "a740c45a",
   "metadata": {},
   "outputs": [
    {
     "name": "stdout",
     "output_type": "stream",
     "text": [
      "[['1', 1, 2], ['2', 2, 3], ['3', 3, 4], ['4', 4, 5], ['5', 6, 7], ['6', 7, 8], ['7', 8, 9], ['8', 9, 10], ['9', 11, 12], ['10', 12, 13], ['11', 13, 14], ['12', 14, 15]]\n"
     ]
    }
   ],
   "source": [
    "\n",
    "dic_sub_elem = {}\n",
    "cant = 0\n",
    "Sub_elementos = []\n",
    "for j in range(len(tbl_Elem)):\n",
    "    \n",
    "    Sub_elem_p = [] # Guarda de forma parcial para dic_sub_elem y se formatea\n",
    "    for i in range(sub):\n",
    "        cant = cant + 1\n",
    "        Ni = Nodos[j][i][0]\n",
    "        Nf = Nodos[j][i+1][0]\n",
    "        Sub_elementos.append([str(cant),Ni, Nf])\n",
    "        Sub_elem_p.append([str(cant),Ni, Nf])\n",
    "        \n",
    "    dic_sub_elem[tbl_Elem[j][0]] = Sub_elem_p\n",
    "    \n",
    "print(Sub_elementos)"
   ]
  },
  {
   "cell_type": "code",
   "execution_count": 14,
   "id": "0c1fd8d5",
   "metadata": {},
   "outputs": [
    {
     "data": {
      "text/plain": [
       "{'1': [['1', 1, 2], ['2', 2, 3], ['3', 3, 4], ['4', 4, 5]],\n",
       " '2': [['5', 6, 7], ['6', 7, 8], ['7', 8, 9], ['8', 9, 10]],\n",
       " '3': [['9', 11, 12], ['10', 12, 13], ['11', 13, 14], ['12', 14, 15]]}"
      ]
     },
     "execution_count": 14,
     "metadata": {},
     "output_type": "execute_result"
    }
   ],
   "source": [
    "dic_sub_elem"
   ]
  },
  {
   "cell_type": "code",
   "execution_count": null,
   "id": "ff72b6a9",
   "metadata": {},
   "outputs": [],
   "source": []
  }
 ],
 "metadata": {
  "kernelspec": {
   "display_name": "Python 3 (ipykernel)",
   "language": "python",
   "name": "python3"
  },
  "language_info": {
   "codemirror_mode": {
    "name": "ipython",
    "version": 3
   },
   "file_extension": ".py",
   "mimetype": "text/x-python",
   "name": "python",
   "nbconvert_exporter": "python",
   "pygments_lexer": "ipython3",
   "version": "3.9.7"
  }
 },
 "nbformat": 4,
 "nbformat_minor": 5
}
