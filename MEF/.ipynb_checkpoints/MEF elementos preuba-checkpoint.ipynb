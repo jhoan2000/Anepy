{
 "cells": [
  {
   "cell_type": "code",
   "execution_count": 1,
   "id": "18f2a77a",
   "metadata": {},
   "outputs": [],
   "source": [
    "import numpy as np\n",
    "from math import cos, sin, radians, sqrt, pi, atan, tan\n"
   ]
  },
  {
   "cell_type": "code",
   "execution_count": 39,
   "id": "0f579c7e",
   "metadata": {},
   "outputs": [],
   "source": [
    "class Elemento():\n",
    "    def __init__(self,elemento, base, altura, moduloElastico, coordenada_xi, coordenada_yi, coordenada_xf, coordenada_yf, conexion):\n",
    "        \n",
    "        self.Elem = elemento\n",
    "        self.b = base\n",
    "        self.h = altura\n",
    "        self.E = moduloElastico\n",
    "        self.cxi = coordenada_xi\n",
    "        self.cyi = coordenada_yi\n",
    "        self.cxf = coordenada_xf\n",
    "        self.cyf = coordenada_yf\n",
    "        self.conex = conexion\n",
    "        # Propiedades del elemento\n",
    "        self.A = self.Area()\n",
    "        self.I = self.Inercia()\n",
    "        self.L = self.Longitud()\n",
    "        self.ang = self.Angulo()\n",
    "        self.l = self.coseno()\n",
    "        self.m = self.seno()\n",
    "    def __str__(self):\n",
    "\n",
    "        print(\"Base: \", self.b)\n",
    "        print(\"Altura: \", self.h)\n",
    "        print(\"Modulo de Elasticidad: \", self.E)\n",
    "        print(\"Coordenadas iniciales: ({},{})\".format(self.cxi, self.cyi))\n",
    "        print(\"Coordenadas finales: ({},{})\".format(self.cxf, self.cyf))\n",
    "        print(\"Area: \", self.A)\n",
    "        print(\"Inercia: \", self.I)\n",
    "        print(\"Longitud: \", self.L)\n",
    "        print(\"\")\n",
    "        print(\"Angulo: \", self.ang)\n",
    "        print(\"Coseno: \", self.l)\n",
    "        print(\"Seno: \", self.m)\n",
    "\n",
    "\n",
    "        return \"\"\n",
    "\n",
    "    # Propiedades del elemento\n",
    "\n",
    "    def Area(self):\n",
    "        return self.b * self.h\n",
    "\n",
    "    def Inercia(self):\n",
    "        return (self.b * self.h**3) / 12\n",
    "\n",
    "    def Longitud(self):\n",
    "        return sqrt((self.cxf - self.cxi)**2 + (self.cyf - self.cyi)**2)\n",
    "\n",
    "    \n",
    "    def Angulo(self):\n",
    "\n",
    "        b = (self.cxf - self.cxi)\n",
    "        h = (self.cyf - self.cyi)\n",
    "        try:\n",
    "            angulo = atan(h/b)*180/pi\n",
    "        except ZeroDivisionError:\n",
    "            angulo = 90\n",
    "        return angulo\n",
    "\n",
    "    def seno(self):\n",
    "        return sin(radians(self.ang))\n",
    "\n",
    "    def coseno(self):\n",
    "        return cos(radians(self.ang))        \n",
    "\n"
   ]
  },
  {
   "cell_type": "code",
   "execution_count": 25,
   "id": "59dee126",
   "metadata": {},
   "outputs": [],
   "source": [
    "\n",
    "E = 1\n",
    "tbl_Elem = [\n",
    "    \n",
    "  # Elem, Ni, Nf, b, h, E,\n",
    "    [\"1\", 1, 2, 40, 40, E],\n",
    "    [\"2\", 2, 3, 40, 40, E],\n",
    "    [\"3\", 4, 3, 40, 40, E],\n",
    "\n",
    "    ]\n",
    "\n",
    "tbl_Nod = [\n",
    "    #Nodo, cx, cy\n",
    "    [1, 0, 0],\n",
    "    [2, 0, 500],\n",
    "    [3, 1000, 767.95],\n",
    "    [4, 1000, 0],\n",
    "\n",
    "    ]\n",
    "        #El, Ni, Nf\n",
    "#print(nodos[:])\n",
    "tbl_Fuer = [\n",
    "    \n",
    "    #Nod, fx, fy, Mz\n",
    "    [2,500, 0, 0],\n",
    "  \n",
    "    ]\n",
    "\n",
    "tbl_Fuer_W = [\n",
    "    #Elem, Li,Lf, Wi, Wf\n",
    "    [\"2\", 0, 1035, -1, -1],\n",
    "\n",
    "    ]\n",
    "\n",
    "tbl_Rest = [\n",
    "        #Tipo de Apoyo, Nodo\n",
    "        # Simple\n",
    "        # Articulado\n",
    "        # Empotrado\n",
    "    [\"Empotrado\", 1],\n",
    "    [\"Empotrado\", 4,],\n",
    "\n",
    "    ]\n",
    "\n",
    "\"\"\"====Diccionarios====\"\"\"\n",
    "# ==============Diccionarios de elementos==================#\n",
    "\n",
    "diccionarioE = {}\n",
    "\n",
    "for i in range(len(tbl_Elem)):\n",
    "    Elem = tbl_Elem[i][0]\n",
    "    Ni = tbl_Elem[i][1]\n",
    "    Nf = tbl_Elem[i][2]\n",
    "    b = tbl_Elem[i][3]\n",
    "    h = tbl_Elem[i][4]\n",
    "    E = tbl_Elem[i][5]   \n",
    "    diccionarioE[Elem] = [Ni, Nf, b, h, E]\n",
    "\n",
    "# ==============Diccionarios de nodos==================#\n",
    "    \n",
    "diccionarioN = {}\n",
    "\n",
    "for i in range(len(tbl_Nod)):\n",
    "    Nod = tbl_Nod[i][0]\n",
    "    cx = tbl_Nod[i][1]\n",
    "    cy = tbl_Nod[i][2]\n",
    "    diccionarioN[Nod] = [cx, cy]\n",
    "    "
   ]
  },
  {
   "cell_type": "code",
   "execution_count": 6,
   "id": "4b38d0a6",
   "metadata": {
    "scrolled": true
   },
   "outputs": [],
   "source": [
    "elementos = [] # Almacena todos los elementos con sus propiedades\n",
    "\n",
    "def ext_elem(): # Elementos fuera del analisis\n",
    "\n",
    "    GDL = []\n",
    "    #########---------->\n",
    "    #Grados de libertad de los nodos\n",
    "    #########---------->\n",
    "    GDL_nodos = {}\n",
    "    for i in range(len(tbl_Nod)):\n",
    "        nodo = tbl_Nod[i][0]\n",
    "        gdl = [nodo*3-3, nodo*3-2, nodo*3-1]\n",
    "        GDL_nodos[nodo] = gdl   \n",
    "\n",
    "    for i in range(len(tbl_Elem)):\n",
    "        b = tbl_Elem[i][3]\n",
    "        h = tbl_Elem[i][4]\n",
    "            \n",
    "        Ele = tbl_Elem[i][0]\n",
    "        Ni = tbl_Elem[i][1]\n",
    "        Nf = tbl_Elem[i][2]\n",
    "        conexion = [Ele, Ni, Nf]\n",
    "        xi = diccionarioN[Ni][0]\n",
    "        yi = diccionarioN[Ni][1]\n",
    "        xf = diccionarioN[Nf][0]\n",
    "        yf = diccionarioN[Nf][1]\n",
    "            \n",
    "        barra = Elemento(Ele,b, h, E, xi, yi, xf, yf, conexion)\n",
    "        elementos.append(barra) # Almacena elemento\n",
    "    return elementos\n",
    "\n",
    "\n",
    "elementos = ext_elem()\n",
    "        "
   ]
  },
  {
   "cell_type": "code",
   "execution_count": null,
   "id": "a084dcc1",
   "metadata": {},
   "outputs": [],
   "source": []
  },
  {
   "cell_type": "code",
   "execution_count": 84,
   "id": "b2d7f4aa",
   "metadata": {},
   "outputs": [],
   "source": [
    "###### 3\n",
    "sub = 4 # Cantidad de subdiviciones que se realizara al elemento\n",
    "###############################################################\n",
    "cheq = [] # Guarda coordenadas para luego chequer si ya existen \n",
    "          # y asi no crear otro nodo en la misma posición\n",
    "Sub_elementos = []\n",
    "coord = [] # Coordenadas\n",
    "for i in range(len(tbl_Elem)):\n",
    "\n",
    "    coord_p = [] # Guardado parcial\n",
    "    Elemento = elementos[i]\n",
    "    L = Elemento.L\n",
    "    L_unitaria = L/sub\n",
    "    \n",
    "    ang = Elemento.ang\n",
    "    #print(ang)\n",
    "    \n",
    "    for j in range(sub+1): # Nodos =  Can_sub + 1\n",
    "        #i = i + 1\n",
    "        # Elementos horizontales\n",
    "        if ang == 0: \n",
    "            cy = Elemento.cyi\n",
    "            cx = Elemento.cxi + round(L_unitaria*j,5)\n",
    "            cheq.append([cx,cy])\n",
    "            if cheq.count([cx, cy]) < 2: # Se chequea si la coord ya esta incluida\n",
    "                coord_p.append([cx,cy])\n",
    "            \n",
    "        # Elementos verticales\n",
    "        elif ang == 90:\n",
    "            cx = Elemento.cxi\n",
    "            cy = Elemento.cyi + round(L_unitaria*j,5)\n",
    "            # print(cy)\n",
    "            cheq.append([cx,cy])\n",
    "            if cheq.count([cx, cy]) < 2: # Se chequea si la coord ya esta incluida\n",
    "                coord_p.append([cx,cy])\n",
    "                \n",
    "        # Elementos inclinados crecientes\n",
    "        elif ang > 0 and ang < 90:\n",
    "            \"\"\"estos fracmento forman l_uni en un triangulo rectangulo\"\"\"\n",
    "            Ly_uni =  L_unitaria* sqrt(1/(1+(1/(tan(radians(ang))**2)))) # Longitud del fracmento en y\n",
    "            Lx_uni = Ly_uni/tan(radians(ang)) # Longitud del fracmento en x\n",
    "            cx = Elemento.cxi + round(Lx_uni*j,5)\n",
    "            cy = Elemento.cyi + round(Ly_uni*j,5)\n",
    "            \n",
    "            #print(\"j=\",j, \"Ly= \",Ly_uni,\"Lx= \",Lx_uni, \"cx= \",cx, \"cy= \", cy)\n",
    "            cheq.append([cx,cy])\n",
    "            if cheq.count([cx, cy]) < 2: # Se chequea si la coord ya esta incluida\n",
    "                \n",
    "                coord_p.append([cx,cy])\n",
    "                \n",
    "        # Elementos inclinados decrecientes\n",
    "        elif ang < 0:\n",
    "            \"\"\"estos fracmento forman l_uni en un triangulo rectangulo\"\"\"\n",
    "            Ly_uni =  L_unitaria* sqrt(1/(1+(1/(tan(radians(ang))**2)))) # Longitud del fracmento en y\n",
    "            Lx_uni = Ly/tan(radians(ang)) # Longitud del fracmento en x\n",
    "            cx = Elemento.cxi - round(Lx_uni*j,5)\n",
    "            cy = Elemento.cyi - round(Ly_uni*j,5)\n",
    "            cheq.append([cx,cy])\n",
    "            if cheq.count([cx, cy]) < 2: # Se chequea si la coord ya esta incluida\n",
    "                coord_p.append([cx,cy])\n",
    "    coord.append(coord_p)"
   ]
  },
  {
   "cell_type": "code",
   "execution_count": 71,
   "id": "061a286a",
   "metadata": {},
   "outputs": [
    {
     "name": "stdout",
     "output_type": "stream",
     "text": [
      "2\n"
     ]
    }
   ],
   "source": [
    "cheq\n",
    "print()"
   ]
  },
  {
   "cell_type": "code",
   "execution_count": 85,
   "id": "7838b69a",
   "metadata": {},
   "outputs": [
    {
     "data": {
      "text/plain": [
       "[[[0, 0.0], [0, 125.0], [0, 250.0], [0, 375.0], [0, 500.0]],\n",
       " [[250.0, 566.9875], [500.0, 633.975], [750.0, 700.9625], [1000.0, 767.95]],\n",
       " [[1000, 0.0], [1000, 191.9875], [1000, 383.975], [1000, 575.9625]]]"
      ]
     },
     "execution_count": 85,
     "metadata": {},
     "output_type": "execute_result"
    }
   ],
   "source": [
    "coord"
   ]
  },
  {
   "cell_type": "code",
   "execution_count": 89,
   "id": "c2aa6848",
   "metadata": {},
   "outputs": [
    {
     "name": "stdout",
     "output_type": "stream",
     "text": [
      "[[[1, 0, 0.0], [2, 0, 125.0], [3, 0, 250.0], [4, 0, 375.0], [5, 0, 500.0]], [[6, 250.0, 566.9875], [7, 500.0, 633.975], [8, 750.0, 700.9625], [9, 1000.0, 767.95], [10, 250.0, 566.9875], [11, 500.0, 633.975], [12, 750.0, 700.9625], [13, 1000.0, 767.95]], [[15, 1000, 0.0], [16, 1000, 191.9875], [17, 1000, 383.975], [18, 1000, 575.9625], [19, 1000, 0.0], [20, 1000, 191.9875], [21, 1000, 383.975], [22, 1000, 575.9625]]]\n"
     ]
    }
   ],
   "source": [
    "Nodos = []\n",
    "cont = 0\n",
    "for i in range(len(tbl_Elem)):\n",
    "    Nod_p = []\n",
    "    try:\n",
    "        for j in range(sub+1):\n",
    "            cont = cont + 1\n",
    "            cx = coord[i][j][0]\n",
    "            cy = coord[i][j][1]\n",
    "            Nod_p.append([cont, cx, cy])\n",
    "    except IndexError:\n",
    "        for j in range(sub):\n",
    "            \n",
    "            cont = cont + 1\n",
    "            cx = coord[i][j][0]\n",
    "            cy = coord[i][j][1]\n",
    "            Nod_p.append([cont-1, cx, cy])\n",
    "    Nodos.append(Nod_p)\n",
    "print(Nodos)\n",
    "    \n",
    "Sub_Nodos = []\n",
    "for j in range(len(tbl_Elem)):\n",
    "    for i in range(sub+1):\n",
    "        Sub_Nodos.append(Nodos[j][i])\n"
   ]
  },
  {
   "cell_type": "code",
   "execution_count": 90,
   "id": "eaee9b6e",
   "metadata": {},
   "outputs": [
    {
     "data": {
      "text/plain": [
       "[[1, 0, 0.0],\n",
       " [2, 0, 125.0],\n",
       " [3, 0, 250.0],\n",
       " [4, 0, 375.0],\n",
       " [5, 0, 500.0],\n",
       " [6, 250.0, 566.9875],\n",
       " [7, 500.0, 633.975],\n",
       " [8, 750.0, 700.9625],\n",
       " [9, 1000.0, 767.95],\n",
       " [10, 250.0, 566.9875],\n",
       " [15, 1000, 0.0],\n",
       " [16, 1000, 191.9875],\n",
       " [17, 1000, 383.975],\n",
       " [18, 1000, 575.9625],\n",
       " [19, 1000, 0.0]]"
      ]
     },
     "execution_count": 90,
     "metadata": {},
     "output_type": "execute_result"
    }
   ],
   "source": [
    "Sub_Nodos"
   ]
  },
  {
   "cell_type": "code",
   "execution_count": 91,
   "id": "8cd0d1c4",
   "metadata": {},
   "outputs": [
    {
     "data": {
      "text/plain": [
       "[[[1, 0, 0.0], [2, 0, 125.0], [3, 0, 250.0], [4, 0, 375.0], [5, 0, 500.0]],\n",
       " [[6, 250.0, 566.9875],\n",
       "  [7, 500.0, 633.975],\n",
       "  [8, 750.0, 700.9625],\n",
       "  [9, 1000.0, 767.95],\n",
       "  [10, 250.0, 566.9875],\n",
       "  [11, 500.0, 633.975],\n",
       "  [12, 750.0, 700.9625],\n",
       "  [13, 1000.0, 767.95]],\n",
       " [[15, 1000, 0.0],\n",
       "  [16, 1000, 191.9875],\n",
       "  [17, 1000, 383.975],\n",
       "  [18, 1000, 575.9625],\n",
       "  [19, 1000, 0.0],\n",
       "  [20, 1000, 191.9875],\n",
       "  [21, 1000, 383.975],\n",
       "  [22, 1000, 575.9625]]]"
      ]
     },
     "execution_count": 91,
     "metadata": {},
     "output_type": "execute_result"
    }
   ],
   "source": [
    "Nodos"
   ]
  },
  {
   "cell_type": "code",
   "execution_count": 31,
   "id": "a740c45a",
   "metadata": {},
   "outputs": [],
   "source": [
    "\n",
    "dic_sub_elem = {} # Diccionario de elemento subdividido\n",
    "cant = 0\n",
    "Sub_elementos = []\n",
    "for j in range(len(tbl_Elem)):\n",
    "    \n",
    "    b = tbl_Elem[j][3]\n",
    "    h = tbl_Elem[j][4]\n",
    "    E = tbl_Elem[j][5]\n",
    "    Sub_elem_p = [] # Guarda de forma parcial para pasar a dic_sub_elem y se formatea\n",
    "    for i in range(sub):\n",
    "        cant = cant + 1\n",
    "        Ni = Nodos[j][i][0]\n",
    "        Nf = Nodos[j][i+1][0]\n",
    "        Sub_elementos.append([str(cant),Ni, Nf, b, h, E])\n",
    "        Sub_elem_p.append([str(cant),Ni, Nf, b, h, E])\n",
    "        \n",
    "    dic_sub_elem[tbl_Elem[j][0]] = Sub_elem_p\n",
    "    \n",
    "#print(Sub_elementos)"
   ]
  },
  {
   "cell_type": "code",
   "execution_count": 32,
   "id": "1cf420a7",
   "metadata": {},
   "outputs": [
    {
     "data": {
      "text/plain": [
       "[['1', 1, 2, 40, 40, 1],\n",
       " ['2', 2, 3, 40, 40, 1],\n",
       " ['3', 3, 4, 40, 40, 1],\n",
       " ['4', 4, 5, 40, 40, 1],\n",
       " ['5', 6, 7, 40, 40, 1],\n",
       " ['6', 7, 8, 40, 40, 1],\n",
       " ['7', 8, 9, 40, 40, 1],\n",
       " ['8', 9, 10, 40, 40, 1],\n",
       " ['9', 11, 12, 40, 40, 1],\n",
       " ['10', 12, 13, 40, 40, 1],\n",
       " ['11', 13, 14, 40, 40, 1],\n",
       " ['12', 14, 15, 40, 40, 1]]"
      ]
     },
     "execution_count": 32,
     "metadata": {},
     "output_type": "execute_result"
    }
   ],
   "source": [
    "Sub_elementos"
   ]
  },
  {
   "cell_type": "code",
   "execution_count": 33,
   "id": "290378f3",
   "metadata": {},
   "outputs": [
    {
     "data": {
      "text/plain": [
       "{'1': [['1', 1, 2, 40, 40, 1],\n",
       "  ['2', 2, 3, 40, 40, 1],\n",
       "  ['3', 3, 4, 40, 40, 1],\n",
       "  ['4', 4, 5, 40, 40, 1]],\n",
       " '2': [['5', 6, 7, 40, 40, 1],\n",
       "  ['6', 7, 8, 40, 40, 1],\n",
       "  ['7', 8, 9, 40, 40, 1],\n",
       "  ['8', 9, 10, 40, 40, 1]],\n",
       " '3': [['9', 11, 12, 40, 40, 1],\n",
       "  ['10', 12, 13, 40, 40, 1],\n",
       "  ['11', 13, 14, 40, 40, 1],\n",
       "  ['12', 14, 15, 40, 40, 1]]}"
      ]
     },
     "execution_count": 33,
     "metadata": {},
     "output_type": "execute_result"
    }
   ],
   "source": [
    "dic_sub_elem"
   ]
  },
  {
   "cell_type": "code",
   "execution_count": 34,
   "id": "ff72b6a9",
   "metadata": {},
   "outputs": [],
   "source": [
    "# Creacion de tablas de sub nodos y sub elementos\n",
    "tbl_sub_nodos = Sub_Nodos\n",
    "tbl_sub_elementos = Sub_elementos"
   ]
  },
  {
   "cell_type": "code",
   "execution_count": 35,
   "id": "f95b0582",
   "metadata": {},
   "outputs": [],
   "source": [
    "\"\"\"====Diccionarios====\"\"\"\n",
    "# ==============Diccionarios de elementos==================#\n",
    "\n",
    "diccionario_sub_E = {}\n",
    "\n",
    "for i in range(len(tbl_sub_elementos)):\n",
    "    Elem = tbl_sub_elementos[i][0]\n",
    "    Ni = tbl_sub_elementos[i][1]\n",
    "    Nf = tbl_sub_elementos[i][2]\n",
    "    b = tbl_sub_elementos[i][3]\n",
    "    h = tbl_sub_elementos[i][4]\n",
    "    E = tbl_sub_elementos[i][5]   \n",
    "    diccionario_sub_E[Elem] = [Ni, Nf, b, h, E]\n",
    "\n",
    "# ==============Diccionarios de nodos==================#\n",
    "    \n",
    "diccionario_subN = {}\n",
    "\n",
    "for i in range(len(tbl_sub_nodos)):\n",
    "    Nod = tbl_sub_nodos[i][0]\n",
    "    cx = tbl_sub_nodos[i][1]\n",
    "    cy = tbl_sub_nodos[i][2]\n",
    "    diccionario_subN[Nod] = [cx, cy]"
   ]
  },
  {
   "cell_type": "code",
   "execution_count": 36,
   "id": "3b843e36",
   "metadata": {},
   "outputs": [
    {
     "data": {
      "text/plain": [
       "{'1': [['1', 1, 2, 40, 40, 1],\n",
       "  ['2', 2, 3, 40, 40, 1],\n",
       "  ['3', 3, 4, 40, 40, 1],\n",
       "  ['4', 4, 5, 40, 40, 1]],\n",
       " '2': [['5', 6, 7, 40, 40, 1],\n",
       "  ['6', 7, 8, 40, 40, 1],\n",
       "  ['7', 8, 9, 40, 40, 1],\n",
       "  ['8', 9, 10, 40, 40, 1]],\n",
       " '3': [['9', 11, 12, 40, 40, 1],\n",
       "  ['10', 12, 13, 40, 40, 1],\n",
       "  ['11', 13, 14, 40, 40, 1],\n",
       "  ['12', 14, 15, 40, 40, 1]]}"
      ]
     },
     "execution_count": 36,
     "metadata": {},
     "output_type": "execute_result"
    }
   ],
   "source": [
    "dic_sub_elem"
   ]
  },
  {
   "cell_type": "code",
   "execution_count": 40,
   "id": "51273756",
   "metadata": {},
   "outputs": [],
   "source": [
    "\"\"\" Analisis primario de todos los sub elementos \"\"\"\n",
    "\n",
    "def ext_sub_elem(): # Elementos antes de realizar el del analisis\n",
    "    sub_elementos = []\n",
    "    sub_GDL = []\n",
    "    #########---------->\n",
    "    #Grados de libertad de los nodos\n",
    "    #########---------->\n",
    "    sub_GDL_nodos = {}\n",
    "    for i in range(len(tbl_sub_nodos)):\n",
    "        nodo = tbl_sub_nodos[i][0]\n",
    "        gdl = [nodo*3-3, nodo*3-2, nodo*3-1]\n",
    "        sub_GDL_nodos[nodo] = gdl   \n",
    "\n",
    "    for i in range(len(tbl_sub_elementos)):\n",
    "        b = tbl_sub_elementos[i][3]\n",
    "        h = tbl_sub_elementos[i][4]\n",
    "            \n",
    "        Elem = tbl_sub_elementos[i][0]\n",
    "        Ni = tbl_sub_elementos[i][1]\n",
    "        Nf = tbl_sub_elementos[i][2]\n",
    "        sub_conexion = [Elem, Ni, Nf]\n",
    "        xi = diccionario_subN[Ni][0]\n",
    "        yi = diccionario_subN[Ni][1]\n",
    "        xf = diccionario_subN[Nf][0]\n",
    "        yf = diccionario_subN[Nf][1]\n",
    "            \n",
    "        sub_barra = Elemento(Elem,b, h, E, xi, yi, xf, yf, sub_conexion)\n",
    "        #sub_elementos.append(sub_barra) # Almacena elemento\n",
    "    return sub_elementos\n",
    "\n",
    "SUB_Elementos = ext_sub_elem() # Almacena todos los elementos con sus propiedades"
   ]
  },
  {
   "cell_type": "code",
   "execution_count": 178,
   "id": "8eed5413",
   "metadata": {},
   "outputs": [],
   "source": [
    "#dic_sub_elem"
   ]
  },
  {
   "cell_type": "code",
   "execution_count": 41,
   "id": "fd8ca515",
   "metadata": {},
   "outputs": [
    {
     "name": "stdout",
     "output_type": "stream",
     "text": [
      "258.75\n",
      "517.5\n",
      "776.25\n",
      "1035.0\n"
     ]
    }
   ],
   "source": [
    "# Obtener cargar externas para los sub elementos\n",
    "coord = []\n",
    "\n",
    "tbl_sub_F_W = []\n",
    "\n",
    "for i in range(len(tbl_Fuer_W)):\n",
    "    Elemento = tbl_Fuer_W[i][0]\n",
    "    L = tbl_Fuer_W[i][2] - tbl_Fuer_W[i][1]\n",
    "    wi = tbl_Fuer_W[i][3]\n",
    "    wf = tbl_Fuer_W[i][4]\n",
    "    \n",
    "    for j in range(sub):\n",
    "        Elem = dic_sub_elem[Elemento][j][0]\n",
    "        # Carga distibuida rectangular\n",
    "        if wi == wf:\n",
    "           \n",
    "            L_unitaria = L/sub*(j+1)\n",
    "            print(L_unitaria)\n",
    "            sub_W = wi\n",
    "            tbl_sub_F_W.append([Elem, 0, L_unitaria,sub_W , sub_W])\n",
    "        # Carga distibuida triangular decreciente\n",
    "        \n",
    "        if  abs(wi) > 0  and abs(wf) == 0:\n",
    "            \n",
    "            W = wi\n",
    "            L_unitaria = L/sub\n",
    "            sub_wi = (W * L_unitaria * j) /L \n",
    "            sub_wf = (W * L_unitaria * (j+1))/L\n",
    "            tbl_sub_F_W.append([Elem, 0, L_unitaria,sub_wi , sub_wf])\n",
    "        \n",
    "        \n",
    "        # Carga distibuida triangular creciente\n",
    "        if  abs(wf) > 0  and abs(wi) == 0:\n",
    "            \n",
    "            W = wf\n",
    "            L_unitaria = L/sub\n",
    "            sub_wi = (W * L_unitaria * j) /L \n",
    "            sub_wf = (W * L_unitaria * (j+1))/L\n",
    "            tbl_sub_F_W.append([Elem, 0, L_unitaria,sub_wi , sub_wf])\n",
    "        \n",
    "        # Carga distibuida trapezoidal decreciente\n",
    "        if  abs(wi) > abs(wf) and abs(wf) > 0:\n",
    "            \n",
    "            W = (wi - wf)\n",
    "            L_unitaria = L/sub\n",
    "            sub_wi = (W * L_unitaria * j) /L + wf\n",
    "            sub_wf = (W * L_unitaria * (j+1))/L + wf\n",
    "            tbl_sub_F_W.append([Elem, 0, L_unitaria,sub_wi , sub_wf])\n",
    "        \n",
    "        # Carga distibuida trapezoidal creciente\n",
    "        if  abs(wi) < abs(wf) and abs(wi) > 0:\n",
    "            \n",
    "            W = (wf - wi)\n",
    "            L_unitaria = L/sub\n",
    "            sub_wi = wi + (W * L_unitaria * j) /L\n",
    "            sub_wf = wi + (W * L_unitaria * (j+1))/L\n",
    "            tbl_sub_F_W.append([Elem, 0, L_unitaria,sub_wi , sub_wf])\n"
   ]
  },
  {
   "cell_type": "code",
   "execution_count": 222,
   "id": "f88ea8a0",
   "metadata": {
    "scrolled": false
   },
   "outputs": [
    {
     "data": {
      "text/plain": [
       "[['1', 1, 2, 40, 40, 1],\n",
       " ['2', 2, 3, 40, 40, 1],\n",
       " ['3', 3, 4, 40, 40, 1],\n",
       " ['4', 4, 5, 40, 40, 1],\n",
       " ['5', 6, 7, 40, 40, 1],\n",
       " ['6', 7, 8, 40, 40, 1],\n",
       " ['7', 8, 9, 40, 40, 1],\n",
       " ['8', 9, 10, 40, 40, 1],\n",
       " ['9', 11, 12, 40, 40, 1],\n",
       " ['10', 12, 13, 40, 40, 1],\n",
       " ['11', 13, 14, 40, 40, 1],\n",
       " ['12', 14, 15, 40, 40, 1]]"
      ]
     },
     "execution_count": 222,
     "metadata": {},
     "output_type": "execute_result"
    }
   ],
   "source": [
    "tbl_sub_elementos"
   ]
  },
  {
   "cell_type": "code",
   "execution_count": 223,
   "id": "87945ea4",
   "metadata": {},
   "outputs": [
    {
     "data": {
      "text/plain": [
       "[[1, 0, 0.0],\n",
       " [2, 0, 125.0],\n",
       " [3, 0, 250.0],\n",
       " [4, 0, 375.0],\n",
       " [5, 0, 500.0],\n",
       " [6, 0.0, 500.0],\n",
       " [7, 250.00000000000003, 566.9875],\n",
       " [8, 500.00000000000006, 633.975],\n",
       " [9, 750.0000000000001, 700.9625000000001],\n",
       " [10, 1000.0000000000001, 767.95],\n",
       " [11, 1000, 0.0],\n",
       " [12, 1000, 191.9875],\n",
       " [13, 1000, 383.975],\n",
       " [14, 1000, 575.9625000000001],\n",
       " [15, 1000, 767.95]]"
      ]
     },
     "execution_count": 223,
     "metadata": {},
     "output_type": "execute_result"
    }
   ],
   "source": [
    "tbl_sub_nodos"
   ]
  },
  {
   "cell_type": "code",
   "execution_count": 42,
   "id": "d9e44488",
   "metadata": {},
   "outputs": [
    {
     "data": {
      "text/plain": [
       "[['5', 0, 258.75, -1, -1],\n",
       " ['6', 0, 517.5, -1, -1],\n",
       " ['7', 0, 776.25, -1, -1],\n",
       " ['8', 0, 1035.0, -1, -1]]"
      ]
     },
     "execution_count": 42,
     "metadata": {},
     "output_type": "execute_result"
    }
   ],
   "source": [
    "tbl_sub_F_W"
   ]
  },
  {
   "cell_type": "code",
   "execution_count": null,
   "id": "2b65ac9f",
   "metadata": {},
   "outputs": [],
   "source": []
  },
  {
   "cell_type": "code",
   "execution_count": null,
   "id": "56545098",
   "metadata": {},
   "outputs": [],
   "source": []
  }
 ],
 "metadata": {
  "kernelspec": {
   "display_name": "Python 3 (ipykernel)",
   "language": "python",
   "name": "python3"
  },
  "language_info": {
   "codemirror_mode": {
    "name": "ipython",
    "version": 3
   },
   "file_extension": ".py",
   "mimetype": "text/x-python",
   "name": "python",
   "nbconvert_exporter": "python",
   "pygments_lexer": "ipython3",
   "version": "3.9.7"
  }
 },
 "nbformat": 4,
 "nbformat_minor": 5
}
