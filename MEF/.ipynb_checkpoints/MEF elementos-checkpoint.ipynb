{
 "cells": [
  {
   "cell_type": "code",
   "execution_count": 2,
   "id": "18f2a77a",
   "metadata": {},
   "outputs": [],
   "source": [
    "import numpy as np\n",
    "from math import cos, sin, radians, sqrt, pi, atan, tan\n"
   ]
  },
  {
   "cell_type": "code",
   "execution_count": 80,
   "id": "0f579c7e",
   "metadata": {},
   "outputs": [],
   "source": [
    "class Elemento():\n",
    "    def __init__(self,elemento, base, altura, moduloElastico, coordenada_xi, coordenada_yi, coordenada_xf, coordenada_yf, conexion):\n",
    "        \n",
    "        self.Elem = elemento\n",
    "        self.b = base\n",
    "        self.h = altura\n",
    "        self.E = moduloElastico\n",
    "        self.cxi = coordenada_xi\n",
    "        self.cyi = coordenada_yi\n",
    "        self.cxf = coordenada_xf\n",
    "        self.cyf = coordenada_yf\n",
    "        self.conex = conexion\n",
    "        # Propiedades del elemento\n",
    "        self.A = self.Area()\n",
    "        self.I = self.Inercia()\n",
    "        self.L = self.Longitud()\n",
    "        self.ang = self.Angulo()\n",
    "        self.l = self.coseno()\n",
    "        self.m = self.seno()\n",
    "    def __str__(self):\n",
    "\n",
    "        print(\"Base: \", self.b)\n",
    "        print(\"Altura: \", self.h)\n",
    "        print(\"Modulo de Elasticidad: \", self.E)\n",
    "        print(\"Coordenadas iniciales: ({},{})\".format(self.cxi, self.cyi))\n",
    "        print(\"Coordenadas finales: ({},{})\".format(self.cxf, self.cyf))\n",
    "        print(\"Area: \", self.A)\n",
    "        print(\"Inercia: \", self.I)\n",
    "        print(\"Longitud: \", self.L)\n",
    "        print(\"\")\n",
    "        print(\"Angulo: \", self.ang)\n",
    "        print(\"Coseno: \", self.l)\n",
    "        print(\"Seno: \", self.m)\n",
    "\n",
    "\n",
    "        return \"\"\n",
    "\n",
    "    # Propiedades del elemento\n",
    "\n",
    "    def Area(self):\n",
    "        return self.b * self.h\n",
    "\n",
    "    def Inercia(self):\n",
    "        return (self.b * self.h**3) / 12\n",
    "\n",
    "    def Longitud(self):\n",
    "        return sqrt((self.cxf - self.cxi)**2 + (self.cyf - self.cyi)**2)\n",
    "\n",
    "    \n",
    "    def Angulo(self):\n",
    "\n",
    "        b = (self.cxf - self.cxi)\n",
    "        h = (self.cyf - self.cyi)\n",
    "        try:\n",
    "            angulo = atan(h/b)*180/pi\n",
    "        except ZeroDivisionError:\n",
    "            angulo = 90\n",
    "        return angulo\n",
    "\n",
    "    def seno(self):\n",
    "        return sin(radians(self.ang))\n",
    "\n",
    "    def coseno(self):\n",
    "        return cos(radians(self.ang))        \n",
    "\n"
   ]
  },
  {
   "cell_type": "code",
   "execution_count": 4,
   "id": "59dee126",
   "metadata": {},
   "outputs": [],
   "source": [
    "\n",
    "E = 1\n",
    "tbl_Elem = [\n",
    "    \n",
    "  # Elem, Ni, Nf, b, h, E,\n",
    "    [\"1\", 1, 2, 40, 40, E],\n",
    "    [\"2\", 2, 3, 40, 40, E],\n",
    "    [\"3\", 4, 3, 40, 40, E],\n",
    "\n",
    "    ]\n",
    "\n",
    "tbl_Nod = [\n",
    "    #Nodo, cx, cy\n",
    "    [1, 0, 0],\n",
    "    [2, 0, 500],\n",
    "    [3, 1000, 767.95],\n",
    "    [4, 1000, 0],\n",
    "\n",
    "    ]\n",
    "        #El, Ni, Nf\n",
    "#print(nodos[:])\n",
    "tbl_Fuer = [\n",
    "    \n",
    "    #Nod, fx, fy, Mz\n",
    "    [2,500, 0, 0],\n",
    "  \n",
    "    ]\n",
    "\n",
    "tbl_Fuer_W = [\n",
    "    #Elem, Li,Lf, Wi, Wf\n",
    "    [\"2\", 0, 1035, -1, -1],\n",
    "\n",
    "    ]\n",
    "\n",
    "tbl_Rest = [\n",
    "        #Tipo de Apoyo, Nodo\n",
    "        # Simple\n",
    "        # Articulado\n",
    "        # Empotrado\n",
    "    [\"Empotrado\", 1],\n",
    "    [\"Empotrado\", 4,],\n",
    "\n",
    "    ]\n",
    "\n",
    "\"\"\"====Diccionarios====\"\"\"\n",
    "# ==============Diccionarios de elementos==================#\n",
    "\n",
    "diccionarioE = {}\n",
    "\n",
    "for i in range(len(tbl_Elem)):\n",
    "    Elem = tbl_Elem[i][0]\n",
    "    Ni = tbl_Elem[i][1]\n",
    "    Nf = tbl_Elem[i][2]\n",
    "    b = tbl_Elem[i][3]\n",
    "    h = tbl_Elem[i][4]\n",
    "    E = tbl_Elem[i][5]   \n",
    "    diccionarioE[Elem] = [Ni, Nf, b, h, E]\n",
    "\n",
    "# ==============Diccionarios de nodos==================#\n",
    "    \n",
    "diccionarioN = {}\n",
    "\n",
    "for i in range(len(tbl_Nod)):\n",
    "    Nod = tbl_Nod[i][0]\n",
    "    cx = tbl_Nod[i][1]\n",
    "    cy = tbl_Nod[i][2]\n",
    "    diccionarioN[Nod] = [cx, cy]\n",
    "    "
   ]
  },
  {
   "cell_type": "code",
   "execution_count": 5,
   "id": "4b38d0a6",
   "metadata": {
    "scrolled": true
   },
   "outputs": [],
   "source": [
    "elementos = [] # Almacena todos los elementos con sus propiedades\n",
    "\n",
    "def ext_elem(): # Elementos fuera del analisis\n",
    "\n",
    "    GDL = []\n",
    "    #########---------->\n",
    "    #Grados de libertad de los nodos\n",
    "    #########---------->\n",
    "    GDL_nodos = {}\n",
    "    for i in range(len(tbl_Nod)):\n",
    "        nodo = tbl_Nod[i][0]\n",
    "        gdl = [nodo*3-3, nodo*3-2, nodo*3-1]\n",
    "        GDL_nodos[nodo] = gdl   \n",
    "\n",
    "    for i in range(len(tbl_Elem)):\n",
    "        b = tbl_Elem[i][3]\n",
    "        h = tbl_Elem[i][4]\n",
    "            \n",
    "        Ele = tbl_Elem[i][0]\n",
    "        Ni = tbl_Elem[i][1]\n",
    "        Nf = tbl_Elem[i][2]\n",
    "        conexion = [Ele, Ni, Nf]\n",
    "        xi = diccionarioN[Ni][0]\n",
    "        yi = diccionarioN[Ni][1]\n",
    "        xf = diccionarioN[Nf][0]\n",
    "        yf = diccionarioN[Nf][1]\n",
    "            \n",
    "        barra = Elemento(Ele,b, h, E, xi, yi, xf, yf, conexion)\n",
    "        elementos.append(barra) # Almacena elemento\n",
    "    return elementos\n",
    "\n",
    "\n",
    "elementos = ext_elem()\n",
    "        "
   ]
  },
  {
   "cell_type": "code",
   "execution_count": null,
   "id": "a084dcc1",
   "metadata": {},
   "outputs": [],
   "source": []
  },
  {
   "cell_type": "code",
   "execution_count": 27,
   "id": "b2d7f4aa",
   "metadata": {},
   "outputs": [],
   "source": [
    "###### 3\n",
    "sub = 4 # Cantidad de subdiviciones que se realizara al elemento\n",
    "###############################################################\n",
    "cheq = [] # Guarda coordenadas para luego chequer si ya existen \n",
    "          # y asi no crear otro nodo en la misma posición\n",
    "Sub_elementos = []\n",
    "coord = [] # Coordenadas\n",
    "dic_coord_x_elemento =  {}\n",
    "for i in range(len(tbl_Elem)):\n",
    "    Elem = tbl_Elem[i][0]\n",
    "    Elemento = elementos[i]\n",
    "    L = Elemento.L\n",
    "    L_unitaria = L/sub\n",
    "    coord_p = []\n",
    "    ang = Elemento.ang\n",
    "    #print(ang)\n",
    "    \n",
    "    for j in range(sub+1): # Nodos =  Can_sub + 1\n",
    "        #i = i + 1\n",
    "        # Elementos horizontales\n",
    "        if ang == 0: \n",
    "            cy = Elemento.cyi\n",
    "            cx = Elemento.cxi + round(L_unitaria*j,5)\n",
    "            \n",
    "            coor_p.append([cx,cy])\n",
    "            cheq.append([cx,cy])\n",
    "            \n",
    "            if cheq.count([cx, cy]) < 2: # Se chequea si la coord ya esta incluida\n",
    "                coord.append([cx,cy])\n",
    "            \n",
    "        # Elementos verticales\n",
    "        elif ang == 90:\n",
    "            cx = Elemento.cxi\n",
    "            cy = Elemento.cyi + round(L_unitaria*j,5)\n",
    "            # print(cy)\n",
    "            \n",
    "            cheq.append([cx,cy])\n",
    "            coord_p.append([cx,cy])\n",
    "            if cheq.count([cx, cy]) < 2: # Se chequea si la coord ya esta incluida\n",
    "                coord.append([cx,cy])\n",
    "                \n",
    "        # Elementos inclinados crecientes\n",
    "        elif ang > 0 and ang < 90:\n",
    "            \"\"\"estos fracmento forman l_uni en un triangulo rectangulo\"\"\"\n",
    "            Ly_uni =  L_unitaria* sqrt(1/(1+(1/(tan(radians(ang))**2)))) # Longitud del fracmento en y\n",
    "            Lx_uni = Ly_uni/tan(radians(ang)) # Longitud del fracmento en x\n",
    "            cx = Elemento.cxi + round(Lx_uni*j,5)\n",
    "            cy = Elemento.cyi + round(Ly_uni*j,5)\n",
    "            \n",
    "            #print(\"j=\",j, \"Ly= \",Ly_uni,\"Lx= \",Lx_uni, \"cx= \",cx, \"cy= \", cy)\n",
    "            cheq.append([cx,cy])\n",
    "            coord_p.append([cx,cy])\n",
    "            if cheq.count([cx, cy]) < 2: # Se chequea si la coord ya esta incluida\n",
    "                \n",
    "                coord.append([cx,cy])\n",
    "                \n",
    "        # Elementos inclinados decrecientes\n",
    "        elif ang < 0:\n",
    "            \"\"\"estos fracmento forman l_uni en un triangulo rectangulo\"\"\"\n",
    "            Ly_uni =  L_unitaria* sqrt(1/(1+(1/(tan(radians(ang))**2)))) # Longitud del fracmento en y\n",
    "            Lx_uni = Ly/tan(radians(ang)) # Longitud del fracmento en x\n",
    "            cx = Elemento.cxi - round(Lx_uni*j,5)\n",
    "            cy = Elemento.cyi - round(Ly_uni*j,5)\n",
    "            \n",
    "            cheq.append([cx,cy])\n",
    "            coord_p.append([cx,cy])\n",
    "            if cheq.count([cx, cy]) < 2: # Se chequea si la coord ya esta incluida\n",
    "                coord.append([cx,cy])\n",
    "        dic_coord_x_elemento[Elem] = coord_p\n"
   ]
  },
  {
   "cell_type": "code",
   "execution_count": 28,
   "id": "9b73ff5f",
   "metadata": {},
   "outputs": [
    {
     "data": {
      "text/plain": [
       "{'1': [[0, 0.0], [0, 125.0], [0, 250.0], [0, 375.0], [0, 500.0]],\n",
       " '2': [[0.0, 500.0],\n",
       "  [250.0, 566.9875],\n",
       "  [500.0, 633.975],\n",
       "  [750.0, 700.9625],\n",
       "  [1000.0, 767.95]],\n",
       " '3': [[1000, 0.0],\n",
       "  [1000, 191.9875],\n",
       "  [1000, 383.975],\n",
       "  [1000, 575.9625],\n",
       "  [1000, 767.95]]}"
      ]
     },
     "execution_count": 28,
     "metadata": {},
     "output_type": "execute_result"
    }
   ],
   "source": [
    "dic_coord_x_elemento"
   ]
  },
  {
   "cell_type": "code",
   "execution_count": 51,
   "id": "7838b69a",
   "metadata": {},
   "outputs": [
    {
     "data": {
      "text/plain": [
       "[[0, 0.0],\n",
       " [0, 125.0],\n",
       " [0, 250.0],\n",
       " [0, 375.0],\n",
       " [0, 500.0],\n",
       " [250.0, 566.9875],\n",
       " [500.0, 633.975],\n",
       " [750.0, 700.9625],\n",
       " [1000.0, 767.95],\n",
       " [1000, 0.0],\n",
       " [1000, 191.9875],\n",
       " [1000, 383.975],\n",
       " [1000, 575.9625]]"
      ]
     },
     "execution_count": 51,
     "metadata": {},
     "output_type": "execute_result"
    }
   ],
   "source": [
    "coord"
   ]
  },
  {
   "cell_type": "code",
   "execution_count": 60,
   "id": "ab9b21df",
   "metadata": {},
   "outputs": [],
   "source": [
    "Sub_Nodos = []\n",
    "cont = 0\n",
    "diccionario_sub_N = {}\n",
    "\n",
    "for i in range(len(coord)):\n",
    "    cont = cont + 1\n",
    "    cx = coord[i][0]\n",
    "    cy = coord[i][1]\n",
    "    Sub_Nodos.append([cont, cx, cy])\n",
    "    diccionario_sub_N[cont] = [cx, cy]"
   ]
  },
  {
   "cell_type": "code",
   "execution_count": 39,
   "id": "d4d7bef1",
   "metadata": {},
   "outputs": [
    {
     "data": {
      "text/plain": [
       "[[1, 0, 0.0],\n",
       " [2, 0, 125.0],\n",
       " [3, 0, 250.0],\n",
       " [4, 0, 375.0],\n",
       " [5, 0, 500.0],\n",
       " [6, 250.0, 566.9875],\n",
       " [7, 500.0, 633.975],\n",
       " [8, 750.0, 700.9625],\n",
       " [9, 1000.0, 767.95],\n",
       " [10, 1000, 0.0],\n",
       " [11, 1000, 191.9875],\n",
       " [12, 1000, 383.975],\n",
       " [13, 1000, 575.9625]]"
      ]
     },
     "execution_count": 39,
     "metadata": {},
     "output_type": "execute_result"
    }
   ],
   "source": [
    "Sub_Nodos"
   ]
  },
  {
   "cell_type": "code",
   "execution_count": 42,
   "id": "5a77743a",
   "metadata": {},
   "outputs": [
    {
     "data": {
      "text/plain": [
       "[1000, 575.9625]"
      ]
     },
     "execution_count": 42,
     "metadata": {},
     "output_type": "execute_result"
    }
   ],
   "source": [
    "Sub_Nodos[12][1:]"
   ]
  },
  {
   "cell_type": "code",
   "execution_count": 67,
   "id": "9585cff9",
   "metadata": {},
   "outputs": [
    {
     "name": "stdout",
     "output_type": "stream",
     "text": [
      "Hi\n",
      "Hi\n",
      "Hi\n"
     ]
    }
   ],
   "source": [
    "\n",
    "diccionario_sub_E = {} # Diccionario de elemento subdividido\n",
    "cant = 0\n",
    "Sub_elementos = []\n",
    "sub_elementos = []\n",
    "for i in range(3):#len(tbl_Elem)):\n",
    "    Elem = tbl_Elem[i][0]\n",
    "    b = tbl_Elem[j][3]\n",
    "    h = tbl_Elem[j][4]\n",
    "    E = tbl_Elem[j][5]\n",
    "    \n",
    "    Sub_elem_p = [] # Guarda de forma parcial para pasar a dic_sub_elem y se formatea\n",
    "    coord_sub = dic_coord_x_elemento[Elem]\n",
    "    for n in range(len(Sub_Nodos)):\n",
    "        try:\n",
    "            coord_sub_nod_i = Sub_Nodos[n][1:] # Coordenada del nodo inicial\n",
    "            coord_sub_nod_f = Sub_Nodos[n+1][1:] # Coordenada del siguiente nodo\n",
    "            if coord_sub_nod_i in coord_sub:\n",
    "                if coord_sub_nod_f in coord_sub:\n",
    "                    cant = cant + 1\n",
    "                    Ni = Sub_Nodos[n][0]\n",
    "                    Nf = Sub_Nodos[n+1][0]\n",
    "                    Sub_elem_p.append([str(cant),Ni, Nf, b, h, E])\n",
    "                    Sub_elementos.append([str(cant),Ni, Nf, b, h, E])\n",
    "        except IndexError:\n",
    "            print(\"Hi\")\n",
    "    \n",
    "    diccionario_sub_E[Elem] = Sub_elem_p\n",
    "    "
   ]
  },
  {
   "cell_type": "code",
   "execution_count": 68,
   "id": "ff72b6a9",
   "metadata": {},
   "outputs": [],
   "source": [
    "# Creacion de tablas de sub nodos y sub elementos\n",
    "tbl_sub_nodos = Sub_Nodos\n",
    "tbl_sub_elementos = Sub_elementos"
   ]
  },
  {
   "cell_type": "code",
   "execution_count": 83,
   "id": "33631a0b",
   "metadata": {},
   "outputs": [
    {
     "data": {
      "text/plain": [
       "[['1', 1, 2, 40, 40, 1],\n",
       " ['2', 2, 3, 40, 40, 1],\n",
       " ['3', 3, 4, 40, 40, 1],\n",
       " ['4', 4, 5, 40, 40, 1],\n",
       " ['5', 5, 6, 40, 40, 1],\n",
       " ['6', 6, 7, 40, 40, 1],\n",
       " ['7', 7, 8, 40, 40, 1],\n",
       " ['8', 8, 9, 40, 40, 1],\n",
       " ['9', 9, 10, 40, 40, 1],\n",
       " ['10', 10, 11, 40, 40, 1],\n",
       " ['11', 11, 12, 40, 40, 1],\n",
       " ['12', 12, 13, 40, 40, 1]]"
      ]
     },
     "execution_count": 83,
     "metadata": {},
     "output_type": "execute_result"
    }
   ],
   "source": [
    "tbl_sub_elementos"
   ]
  },
  {
   "cell_type": "code",
   "execution_count": 87,
   "id": "51273756",
   "metadata": {},
   "outputs": [],
   "source": [
    "\"\"\" Analisis primario de todos los sub elementos \"\"\"\n",
    "\n",
    "def ext_sub_elem(): # Elementos antes de realizar el del analisis\n",
    "    sub_elementos = []\n",
    "    sub_GDL = []\n",
    "    #########---------->\n",
    "    #Grados de libertad de los nodos\n",
    "    #########---------->\n",
    "    sub_GDL_nodos = {}\n",
    "    for i in range(len(tbl_sub_nodos)):\n",
    "        nodo = tbl_sub_nodos[i][0]\n",
    "        gdl = [nodo*3-3, nodo*3-2, nodo*3-1]\n",
    "        sub_GDL_nodos[nodo] = gdl   \n",
    "\n",
    "    for i in range(len(tbl_sub_elementos)):\n",
    "        b = tbl_sub_elementos[i][3]\n",
    "        h = tbl_sub_elementos[i][4]\n",
    "            \n",
    "        Elem = tbl_sub_elementos[i][0]\n",
    "        Ni = tbl_sub_elementos[i][1]\n",
    "        Nf = tbl_sub_elementos[i][2]\n",
    "        sub_conexion = [Elem, Ni, Nf]\n",
    "        xi = diccionario_sub_N[Ni][0]\n",
    "        yi = diccionario_sub_N[Ni][1]\n",
    "        xf = diccionario_sub_N[Nf][0]\n",
    "        yf = diccionario_sub_N[Nf][1]\n",
    "            \n",
    "        sub_barra = Elemento(Elem,b, h, E, xi, yi, xf, yf, sub_conexion)\n",
    "        sub_elementos.append(sub_barra) # Almacena elemento\n",
    "    return sub_elementos\n",
    "\n",
    "SUB_Elementos = ext_sub_elem() # Almacena todos los elementos con sus propiedades"
   ]
  },
  {
   "cell_type": "code",
   "execution_count": 88,
   "id": "8eed5413",
   "metadata": {},
   "outputs": [
    {
     "data": {
      "text/plain": [
       "[<__main__.Elemento at 0x1a735710850>,\n",
       " <__main__.Elemento at 0x1a735710be0>,\n",
       " <__main__.Elemento at 0x1a735710b20>,\n",
       " <__main__.Elemento at 0x1a735710e50>,\n",
       " <__main__.Elemento at 0x1a7361451c0>,\n",
       " <__main__.Elemento at 0x1a736145a60>,\n",
       " <__main__.Elemento at 0x1a736145250>,\n",
       " <__main__.Elemento at 0x1a7361453d0>,\n",
       " <__main__.Elemento at 0x1a736145e80>,\n",
       " <__main__.Elemento at 0x1a736145ac0>,\n",
       " <__main__.Elemento at 0x1a736145fd0>,\n",
       " <__main__.Elemento at 0x1a7361458b0>]"
      ]
     },
     "execution_count": 88,
     "metadata": {},
     "output_type": "execute_result"
    }
   ],
   "source": [
    "SUB_Elementos"
   ]
  },
  {
   "cell_type": "code",
   "execution_count": 93,
   "id": "fd8ca515",
   "metadata": {},
   "outputs": [
    {
     "name": "stdout",
     "output_type": "stream",
     "text": [
      "1035.2763894245827\n",
      "258.8190973561457\n",
      "517.6381947122914\n",
      "776.457292068437\n",
      "1035.2763894245827\n"
     ]
    }
   ],
   "source": [
    "# Obtener cargar externas para los sub elementos\n",
    "coord = []\n",
    "\n",
    "tbl_sub_F_W = []\n",
    "\n",
    "for i in range(len(tbl_Fuer_W)):\n",
    "    Elemento = tbl_Fuer_W[i][0]\n",
    "    wi = tbl_Fuer_W[i][3]\n",
    "    wf = tbl_Fuer_W[i][4]\n",
    "    L = 0\n",
    "    \n",
    "    for n in range(len(elementos)):\n",
    "        if Elemento == elementos[n].Elem:\n",
    "            L = elementos[n].L\n",
    "            print(L)\n",
    "    for j in range(sub):\n",
    "        Elem = dic_sub_elem[Elemento][j][0]\n",
    "        # Carga distibuida rectangular\n",
    "        if wi == wf:\n",
    "           \n",
    "            L_unitaria = L/sub*(j+1)\n",
    "            print(L_unitaria)\n",
    "            sub_W = wi\n",
    "            tbl_sub_F_W.append([Elem, 0, L_unitaria,sub_W , sub_W])\n",
    "        # Carga distibuida triangular decreciente\n",
    "        \n",
    "        if  abs(wi) > 0  and abs(wf) == 0:\n",
    "            \n",
    "            W = wi\n",
    "            L_unitaria = L/sub\n",
    "            sub_wi = (W * L_unitaria * j) /L \n",
    "            sub_wf = (W * L_unitaria * (j+1))/L\n",
    "            tbl_sub_F_W.append([Elem, 0, L_unitaria,sub_wi , sub_wf])\n",
    "        \n",
    "        \n",
    "        # Carga distibuida triangular creciente\n",
    "        if  abs(wf) > 0  and abs(wi) == 0:\n",
    "            \n",
    "            W = wf\n",
    "            L_unitaria = L/sub\n",
    "            sub_wi = (W * L_unitaria * j) /L \n",
    "            sub_wf = (W * L_unitaria * (j+1))/L\n",
    "            tbl_sub_F_W.append([Elem, 0, L_unitaria,sub_wi , sub_wf])\n",
    "        \n",
    "        # Carga distibuida trapezoidal decreciente\n",
    "        if  abs(wi) > abs(wf) and abs(wf) > 0:\n",
    "            \n",
    "            W = (wi - wf)\n",
    "            L_unitaria = L/sub\n",
    "            sub_wi = (W * L_unitaria * j) /L + wf\n",
    "            sub_wf = (W * L_unitaria * (j+1))/L + wf\n",
    "            tbl_sub_F_W.append([Elem, 0, L_unitaria,sub_wi , sub_wf])\n",
    "        \n",
    "        # Carga distibuida trapezoidal creciente\n",
    "        if  abs(wi) < abs(wf) and abs(wi) > 0:\n",
    "            \n",
    "            W = (wf - wi)\n",
    "            L_unitaria = L/sub\n",
    "            sub_wi = wi + (W * L_unitaria * j) /L\n",
    "            sub_wf = wi + (W * L_unitaria * (j+1))/L\n",
    "            tbl_sub_F_W.append([Elem, 0, L_unitaria,sub_wi , sub_wf])\n"
   ]
  },
  {
   "cell_type": "code",
   "execution_count": 94,
   "id": "f88ea8a0",
   "metadata": {
    "scrolled": false
   },
   "outputs": [
    {
     "data": {
      "text/plain": [
       "[['1', 1, 2, 40, 40, 1],\n",
       " ['2', 2, 3, 40, 40, 1],\n",
       " ['3', 3, 4, 40, 40, 1],\n",
       " ['4', 4, 5, 40, 40, 1],\n",
       " ['5', 5, 6, 40, 40, 1],\n",
       " ['6', 6, 7, 40, 40, 1],\n",
       " ['7', 7, 8, 40, 40, 1],\n",
       " ['8', 8, 9, 40, 40, 1],\n",
       " ['9', 9, 10, 40, 40, 1],\n",
       " ['10', 10, 11, 40, 40, 1],\n",
       " ['11', 11, 12, 40, 40, 1],\n",
       " ['12', 12, 13, 40, 40, 1]]"
      ]
     },
     "execution_count": 94,
     "metadata": {},
     "output_type": "execute_result"
    }
   ],
   "source": [
    "tbl_sub_elementos"
   ]
  },
  {
   "cell_type": "code",
   "execution_count": 95,
   "id": "87945ea4",
   "metadata": {},
   "outputs": [
    {
     "data": {
      "text/plain": [
       "[[1, 0, 0.0],\n",
       " [2, 0, 125.0],\n",
       " [3, 0, 250.0],\n",
       " [4, 0, 375.0],\n",
       " [5, 0, 500.0],\n",
       " [6, 250.0, 566.9875],\n",
       " [7, 500.0, 633.975],\n",
       " [8, 750.0, 700.9625],\n",
       " [9, 1000.0, 767.95],\n",
       " [10, 1000, 0.0],\n",
       " [11, 1000, 191.9875],\n",
       " [12, 1000, 383.975],\n",
       " [13, 1000, 575.9625]]"
      ]
     },
     "execution_count": 95,
     "metadata": {},
     "output_type": "execute_result"
    }
   ],
   "source": [
    "tbl_sub_nodos"
   ]
  },
  {
   "cell_type": "code",
   "execution_count": 96,
   "id": "d9e44488",
   "metadata": {},
   "outputs": [
    {
     "data": {
      "text/plain": [
       "[['5', 0, 258.8190973561457, -1, -1],\n",
       " ['6', 0, 517.6381947122914, -1, -1],\n",
       " ['7', 0, 776.457292068437, -1, -1],\n",
       " ['8', 0, 1035.2763894245827, -1, -1]]"
      ]
     },
     "execution_count": 96,
     "metadata": {},
     "output_type": "execute_result"
    }
   ],
   "source": [
    "tbl_sub_F_W"
   ]
  },
  {
   "cell_type": "code",
   "execution_count": null,
   "id": "2b65ac9f",
   "metadata": {},
   "outputs": [],
   "source": []
  },
  {
   "cell_type": "code",
   "execution_count": null,
   "id": "56545098",
   "metadata": {},
   "outputs": [],
   "source": []
  }
 ],
 "metadata": {
  "kernelspec": {
   "display_name": "Python 3 (ipykernel)",
   "language": "python",
   "name": "python3"
  },
  "language_info": {
   "codemirror_mode": {
    "name": "ipython",
    "version": 3
   },
   "file_extension": ".py",
   "mimetype": "text/x-python",
   "name": "python",
   "nbconvert_exporter": "python",
   "pygments_lexer": "ipython3",
   "version": "3.9.7"
  }
 },
 "nbformat": 4,
 "nbformat_minor": 5
}
