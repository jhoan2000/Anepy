{
 "cells": [
  {
   "cell_type": "code",
   "execution_count": 29,
   "id": "18f2a77a",
   "metadata": {},
   "outputs": [],
   "source": [
    "import numpy as np\n",
    "from math import cos, sin, radians, sqrt, pi, atan, tan\n"
   ]
  },
  {
   "cell_type": "code",
   "execution_count": 36,
   "id": "0f579c7e",
   "metadata": {},
   "outputs": [],
   "source": [
    "class Elemento():\n",
    "    def __init__(self,elemento, base, altura, moduloElastico, coordenada_xi, coordenada_yi, coordenada_xf, coordenada_yf, conexion):\n",
    "        \n",
    "        self.Elem = elemento\n",
    "        self.b = base\n",
    "        self.h = altura\n",
    "        self.E = moduloElastico\n",
    "        self.cxi = coordenada_xi\n",
    "        self.cyi = coordenada_yi\n",
    "        self.cxf = coordenada_xf\n",
    "        self.cyf = coordenada_yf\n",
    "        self.conex = conexion\n",
    "        # Propiedades del elemento\n",
    "        self.A = self.Area()\n",
    "        self.I = self.Inercia()\n",
    "        self.L = self.Longitud()\n",
    "        self.ang = self.Angulo()\n",
    "        self.l = self.coseno()\n",
    "        self.m = self.seno()\n",
    "\n",
    "    # Propiedades del elemento\n",
    "\n",
    "    def Area(self):\n",
    "        return self.b * self.h\n",
    "\n",
    "    def Inercia(self):\n",
    "        return (self.b * self.h**3) / 12\n",
    "\n",
    "    def Longitud(self):\n",
    "        return sqrt((self.cxf - self.cxi)**2 + (self.cyf - self.cyi)**2)\n",
    "\n",
    "    \n",
    "    def Angulo(self):\n",
    "\n",
    "        b = (self.cxf - self.cxi)\n",
    "        h = (self.cyf - self.cyi)\n",
    "        try:\n",
    "            angulo = atan(h/b)*180/pi\n",
    "        except ZeroDivisionError:\n",
    "            angulo = 90\n",
    "        return angulo\n",
    "\n",
    "    def seno(self):\n",
    "        return sin(radians(self.ang))\n",
    "\n",
    "    def coseno(self):\n",
    "        return cos(radians(self.ang))        \n",
    "\n"
   ]
  },
  {
   "cell_type": "code",
   "execution_count": 37,
   "id": "59dee126",
   "metadata": {},
   "outputs": [],
   "source": [
    "\n",
    "E  = 221.359\n",
    "\n",
    "tbl_Elem = [\n",
    "    \n",
    "  # Elem, Ni, Nf, b, h, E,\n",
    "   ['1', 1, 2, 30, 30, E],\n",
    " ['2', 2, 3, 30, 60, E],\n",
    " ['3', 4, 3, 30, 30, E],]\n",
    "    \n",
    "tbl_Nod = [\n",
    "    #Nodo, cx, cy\n",
    " [1, 0, 0.0],\n",
    " [2, 0, 400.0],\n",
    " [3, 1000.0, 400],\n",
    " [4, 1000, 0.0],\n",
    "\n",
    " ]\n",
    "        #El, Ni, Nf\n",
    "#print(nodos[:])\n",
    "tbl_Fuer = [\n",
    "    \n",
    "    #Nod, fx, fy, Mz\n",
    "    [2,100, 0, 0],\n",
    "  \n",
    "    ]\n",
    "\n",
    "tbl_Fuer_W = [\n",
    "    #Elem, Li,Lf, Wi, Wf\n",
    "    #[\"1\", 0, 500, -50, 0], # borrar Li y Lf\n",
    "\n",
    "    ]\n",
    "\n",
    "tbl_Rest = [\n",
    "        #Tipo de Apoyo, Nodo\n",
    "        # Simple\n",
    "        # Articulado\n",
    "        # Empotrado\n",
    "    [\"Empotrado\", 1],\n",
    "    [\"Articulado\", 4,],\n",
    "    #[\"Articulado\", 4,],\n",
    "    ]\n",
    "\n",
    "\"\"\"====Diccionarios====\"\"\"\n",
    "# ==============Diccionarios de elementos==================#\n",
    "\n",
    "diccionarioE = {}\n",
    "\n",
    "for i in range(len(tbl_Elem)):\n",
    "    Elem = tbl_Elem[i][0]\n",
    "    Ni = tbl_Elem[i][1]\n",
    "    Nf = tbl_Elem[i][2]\n",
    "    b = tbl_Elem[i][3]\n",
    "    h = tbl_Elem[i][4]\n",
    "    E = tbl_Elem[i][5]   \n",
    "    diccionarioE[Elem] = [Ni, Nf, b, h, E]\n",
    "\n",
    "# ==============Diccionarios de nodos==================#\n",
    "    \n",
    "diccionarioN = {}\n",
    "\n",
    "for i in range(len(tbl_Nod)):\n",
    "    Nod = tbl_Nod[i][0]\n",
    "    cx = tbl_Nod[i][1]\n",
    "    cy = tbl_Nod[i][2]\n",
    "    diccionarioN[Nod] = [cx, cy]\n",
    "    "
   ]
  },
  {
   "cell_type": "code",
   "execution_count": 38,
   "id": "4b38d0a6",
   "metadata": {
    "scrolled": true
   },
   "outputs": [],
   "source": [
    "elementos = [] # Almacena todos los elementos con sus propiedades\n",
    "\n",
    "def ext_elem(): # Elementos fuera del analisis\n",
    "\n",
    "    for i in range(len(tbl_Elem)):\n",
    "        Ni = tbl_Elem[i][1]\n",
    "        Nf = tbl_Elem[i][2]\n",
    "        b = tbl_Elem[i][3]\n",
    "        h = tbl_Elem[i][4]\n",
    "        Ele = tbl_Elem[i][0]    \n",
    "        conexion = [Ele, Ni, Nf]\n",
    "        xi = diccionarioN[Ni][0]\n",
    "        yi = diccionarioN[Ni][1]\n",
    "        xf = diccionarioN[Nf][0]\n",
    "        yf = diccionarioN[Nf][1]     \n",
    "        barra = Elemento(Ele,b, h, E, xi, yi, xf, yf, conexion)\n",
    "        elementos.append(barra) # Almacena elemento\n",
    "    return elementos\n",
    "\n",
    "\n",
    "elementos = ext_elem()\n",
    "        "
   ]
  },
  {
   "cell_type": "code",
   "execution_count": 39,
   "id": "b2d7f4aa",
   "metadata": {},
   "outputs": [],
   "source": [
    "# SUBCORTES A LAS CARGAS DISTRIBUIDAS\n",
    "sub = 2 #Cantidad de subdiviciones que se realizara al elemento\n",
    "###############################################################\n",
    "cheq = [] # Guarda coordenadas para luego chequer si ya existen \n",
    "          # y asi no crear otro nodo en la misma posición\n",
    "Sub_elementos = []\n",
    "coord = [] # Coordenadas de los nodos\n",
    "dic_coord_x_elemento =  {}\n",
    "for i in range(len(tbl_Elem)):\n",
    "    Elem = tbl_Elem[i][0]\n",
    "    Elemento = elementos[i]\n",
    "    L = Elemento.L\n",
    "    L_unitaria = L/sub\n",
    "    coord_p = []\n",
    "    ang = Elemento.ang\n",
    "    #print(ang)\n",
    "    \n",
    "    for j in range(sub+1): # Nodos =  Can_sub + 1\n",
    "        #i = i + 1\n",
    "        # Elementos horizontales\n",
    "        coor_p = []\n",
    "        if ang == 0: \n",
    "            cy = Elemento.cyi\n",
    "            cx = Elemento.cxi + round(L_unitaria*j,5)\n",
    "            \n",
    "            coor_p.append([cx,cy])\n",
    "            cheq.append([cx,cy])\n",
    "            \n",
    "            if cheq.count([cx, cy]) < 2: # Se chequea si la coord ya esta incluida\n",
    "                coord.append([cx,cy])\n",
    "            \n",
    "        # Elementos verticales\n",
    "        elif ang == 90:\n",
    "            cx = Elemento.cxi\n",
    "            cy = Elemento.cyi + round(L_unitaria*j,5)\n",
    "            # print(cy)\n",
    "            \n",
    "            cheq.append([cx,cy])\n",
    "            coord_p.append([cx,cy])\n",
    "            if cheq.count([cx, cy]) < 2: # Se chequea si la coord ya esta incluida\n",
    "                coord.append([cx,cy])\n",
    "                \n",
    "        # Elementos inclinados crecientes\n",
    "        elif ang > 0 and ang < 90:\n",
    "            \"\"\"estos fracmento forman l_uni en un triangulo rectangulo\"\"\"\n",
    "            Ly_uni =  L_unitaria* sqrt(1/(1+(1/(tan(radians(ang))**2)))) # Longitud del fracmento en y\n",
    "            Lx_uni = Ly_uni/tan(radians(ang)) # Longitud del fracmento en x\n",
    "            cx = Elemento.cxi + round(Lx_uni*j,5)\n",
    "            cy = Elemento.cyi + round(Ly_uni*j,5)\n",
    "            \n",
    "            #print(\"j=\",j, \"Ly= \",Ly_uni,\"Lx= \",Lx_uni, \"cx= \",cx, \"cy= \", cy)\n",
    "            cheq.append([cx,cy])\n",
    "            coord_p.append([cx,cy])\n",
    "            if cheq.count([cx, cy]) < 2: # Se chequea si la coord ya esta incluida\n",
    "                \n",
    "                coord.append([cx,cy])\n",
    "                \n",
    "        # Elementos inclinados decrecientes\n",
    "        elif ang < 0:\n",
    "            \"\"\"estos fracmento forman l_uni en un triangulo rectangulo\"\"\"\n",
    "            Ly_uni =  L_unitaria* sqrt(1/(1+(1/(tan(radians(ang))**2)))) # Longitud del fracmento en y\n",
    "            Lx_uni = Ly/tan(radians(ang)) # Longitud del fracmento en x\n",
    "            cx = Elemento.cxi - round(Lx_uni*j,5)\n",
    "            cy = Elemento.cyi - round(Ly_uni*j,5)\n",
    "            \n",
    "            cheq.append([cx,cy])\n",
    "            coord_p.append([cx,cy])\n",
    "            if cheq.count([cx, cy]) < 2: # Se chequea si la coord ya esta incluida\n",
    "                coord.append([cx,cy])\n",
    "        dic_coord_x_elemento[Elem] = coord_p\n"
   ]
  },
  {
   "cell_type": "code",
   "execution_count": 34,
   "id": "9b73ff5f",
   "metadata": {},
   "outputs": [
    {
     "data": {
      "text/plain": [
       "{'1': [[0, 0.0], [0, 200.0], [0, 400.0]],\n",
       " '2': [],\n",
       " '3': [[1000, 0.0], [1000, 200.0], [1000, 400.0]]}"
      ]
     },
     "execution_count": 34,
     "metadata": {},
     "output_type": "execute_result"
    }
   ],
   "source": [
    "dic_coord_x_elemento"
   ]
  },
  {
   "cell_type": "code",
   "execution_count": 7,
   "id": "7838b69a",
   "metadata": {},
   "outputs": [
    {
     "data": {
      "text/plain": [
       "[[0, 0.0],\n",
       " [0, 200.0],\n",
       " [0, 400.0],\n",
       " [500.0, 400.0],\n",
       " [1000.0, 400.0],\n",
       " [1000, 0.0],\n",
       " [1000, 200.0]]"
      ]
     },
     "execution_count": 7,
     "metadata": {},
     "output_type": "execute_result"
    }
   ],
   "source": [
    "coord"
   ]
  },
  {
   "cell_type": "code",
   "execution_count": 8,
   "id": "efbc7a95",
   "metadata": {},
   "outputs": [],
   "source": [
    "Sub_Nodos = []\n",
    "cont = 0\n",
    "diccionario_sub_N = {}\n",
    "\n",
    "for i in range(len(coord)):\n",
    "    cont = cont + 1\n",
    "    cx = coord[i][0]\n",
    "    cy = coord[i][1]\n",
    "    Sub_Nodos.append([cont, cx, cy])\n",
    "    diccionario_sub_N[cont] = [cx, cy]"
   ]
  },
  {
   "cell_type": "code",
   "execution_count": 9,
   "id": "95db6d9d",
   "metadata": {},
   "outputs": [
    {
     "data": {
      "text/plain": [
       "[[1, 0, 0.0],\n",
       " [2, 0, 200.0],\n",
       " [3, 0, 400.0],\n",
       " [4, 500.0, 400.0],\n",
       " [5, 1000.0, 400.0],\n",
       " [6, 1000, 0.0],\n",
       " [7, 1000, 200.0]]"
      ]
     },
     "execution_count": 9,
     "metadata": {},
     "output_type": "execute_result"
    }
   ],
   "source": [
    "Sub_Nodos"
   ]
  },
  {
   "cell_type": "code",
   "execution_count": 10,
   "id": "5042fe9c",
   "metadata": {},
   "outputs": [
    {
     "data": {
      "text/plain": [
       "[0, 200.0]"
      ]
     },
     "execution_count": 10,
     "metadata": {},
     "output_type": "execute_result"
    }
   ],
   "source": [
    "Sub_Nodos[1][1:]"
   ]
  },
  {
   "cell_type": "code",
   "execution_count": 11,
   "id": "bc38783e",
   "metadata": {},
   "outputs": [
    {
     "name": "stdout",
     "output_type": "stream",
     "text": [
      "Hi\n",
      "Hi\n",
      "Hi\n"
     ]
    }
   ],
   "source": [
    "\n",
    "diccionario_sub_E = {} # Diccionario de elemento subdivididos\n",
    "cant = 0\n",
    "Sub_elementos = []\n",
    "sub_elementos = []\n",
    "for i in range(len(tbl_Elem)):\n",
    "    Elem = tbl_Elem[i][0]\n",
    "    b = tbl_Elem[i][3]\n",
    "    h = tbl_Elem[i][4]\n",
    "    E = tbl_Elem[i][5]\n",
    "    \n",
    "    Sub_elem_p = [] # Guarda de forma parcial para pasar a dic_sub_elem y se formatea\n",
    "    coord_sub = dic_coord_x_elemento[Elem]\n",
    "    for n in range(len(Sub_Nodos)):\n",
    "        try:\n",
    "            coord_sub_nod_i = Sub_Nodos[n][1:] # Coordenada del nodo inicial\n",
    "            coord_sub_nod_f = Sub_Nodos[n+1][1:] # Coordenada del siguiente nodo\n",
    "            if coord_sub_nod_i in coord_sub:\n",
    "                if coord_sub_nod_f in coord_sub:\n",
    "                    cant = cant + 1\n",
    "                    Ni = Sub_Nodos[n][0]\n",
    "                    Nf = Sub_Nodos[n+1][0]\n",
    "                    Sub_elem_p.append([str(cant),Ni, Nf, b, h, E])\n",
    "                    Sub_elementos.append([str(cant),Ni, Nf, b, h, E])\n",
    "        except IndexError:\n",
    "            print(\"Hi\")\n",
    "    \n",
    "    diccionario_sub_E[Elem] = Sub_elem_p\n",
    "    "
   ]
  },
  {
   "cell_type": "code",
   "execution_count": 12,
   "id": "6c43e0e2",
   "metadata": {},
   "outputs": [
    {
     "data": {
      "text/plain": [
       "{'1': [['1', 1, 2, 30, 30, 221.359], ['2', 2, 3, 30, 30, 221.359]],\n",
       " '2': [],\n",
       " '3': [['3', 5, 6, 30, 30, 221.359], ['4', 6, 7, 30, 30, 221.359]]}"
      ]
     },
     "execution_count": 12,
     "metadata": {},
     "output_type": "execute_result"
    }
   ],
   "source": [
    "diccionario_sub_E"
   ]
  },
  {
   "cell_type": "code",
   "execution_count": 13,
   "id": "ff72b6a9",
   "metadata": {},
   "outputs": [],
   "source": [
    "# Creacion de tablas de sub nodos y sub elementos\n",
    "tbl_sub_nodos = Sub_Nodos\n",
    "tbl_sub_elementos = Sub_elementos"
   ]
  },
  {
   "cell_type": "code",
   "execution_count": 14,
   "id": "bf93316c",
   "metadata": {},
   "outputs": [
    {
     "data": {
      "text/plain": [
       "[['1', 1, 2, 30, 30, 221.359],\n",
       " ['2', 2, 3, 30, 30, 221.359],\n",
       " ['3', 5, 6, 30, 30, 221.359],\n",
       " ['4', 6, 7, 30, 30, 221.359]]"
      ]
     },
     "execution_count": 14,
     "metadata": {},
     "output_type": "execute_result"
    }
   ],
   "source": [
    "tbl_sub_elementos"
   ]
  },
  {
   "cell_type": "code",
   "execution_count": 15,
   "id": "2f568012",
   "metadata": {},
   "outputs": [
    {
     "data": {
      "text/plain": [
       "{1: [0, 0.0],\n",
       " 2: [0, 200.0],\n",
       " 3: [0, 400.0],\n",
       " 4: [500.0, 400.0],\n",
       " 5: [1000.0, 400.0],\n",
       " 6: [1000, 0.0],\n",
       " 7: [1000, 200.0]}"
      ]
     },
     "execution_count": 15,
     "metadata": {},
     "output_type": "execute_result"
    }
   ],
   "source": [
    "diccionario_sub_N"
   ]
  },
  {
   "cell_type": "code",
   "execution_count": null,
   "id": "2947e2ac",
   "metadata": {},
   "outputs": [],
   "source": []
  },
  {
   "cell_type": "code",
   "execution_count": 18,
   "id": "51273756",
   "metadata": {},
   "outputs": [],
   "source": [
    "\"\"\" Analisis primario de todos los sub elementos \"\"\"\n",
    "\n",
    "def ext_sub_elem(): # Elementos antes de realizar el del analisis\n",
    "    sub_elementos = []\n",
    "    sub_GDL = []\n",
    "    #########---------->\n",
    "    #Grados de libertad de los nodos\n",
    "    #########---------->\n",
    "    sub_GDL_nodos = {}\n",
    "    for i in range(len(tbl_sub_nodos)):\n",
    "        nodo = tbl_sub_nodos[i][0]\n",
    "        gdl = [nodo*3-3, nodo*3-2, nodo*3-1]\n",
    "        sub_GDL_nodos[nodo] = gdl   \n",
    "\n",
    "    for i in range(len(tbl_sub_elementos)):\n",
    "        b = tbl_sub_elementos[i][3]\n",
    "        h = tbl_sub_elementos[i][4]\n",
    "            \n",
    "        Elem = tbl_sub_elementos[i][0]\n",
    "        Ni = tbl_sub_elementos[i][1]\n",
    "        Nf = tbl_sub_elementos[i][2]\n",
    "        sub_conexion = [Elem, Ni, Nf]\n",
    "        xi = diccionario_sub_N[Ni][0]\n",
    "        yi = diccionario_sub_N[Ni][1]\n",
    "        xf = diccionario_sub_N[Nf][0]\n",
    "        yf = diccionario_sub_N[Nf][1]\n",
    "            \n",
    "        sub_barra = Elemento(Elem,b, h, E, xi, yi, xf, yf, sub_conexion)\n",
    "        sub_elementos.append(sub_barra) # Almacena elemento\n",
    "    return sub_elementos\n",
    "\n",
    "SUB_Elementos = ext_sub_elem() # Almacena todos los elementos con sus propiedades"
   ]
  },
  {
   "cell_type": "code",
   "execution_count": 19,
   "id": "8eed5413",
   "metadata": {},
   "outputs": [
    {
     "data": {
      "text/plain": [
       "[<__main__.Elemento at 0x1bfaf58f070>,\n",
       " <__main__.Elemento at 0x1bfaf58f910>,\n",
       " <__main__.Elemento at 0x1bfaf58f640>,\n",
       " <__main__.Elemento at 0x1bfaf58f9a0>]"
      ]
     },
     "execution_count": 19,
     "metadata": {},
     "output_type": "execute_result"
    }
   ],
   "source": [
    "SUB_Elementos"
   ]
  },
  {
   "cell_type": "code",
   "execution_count": 20,
   "id": "288d0422",
   "metadata": {},
   "outputs": [
    {
     "ename": "IndexError",
     "evalue": "list index out of range",
     "output_type": "error",
     "traceback": [
      "\u001b[1;31m---------------------------------------------------------------------------\u001b[0m",
      "\u001b[1;31mIndexError\u001b[0m                                Traceback (most recent call last)",
      "\u001b[1;32mC:\\Users\\ESTUDI~1\\AppData\\Local\\Temp/ipykernel_13268/1102617122.py\u001b[0m in \u001b[0;36m<module>\u001b[1;34m\u001b[0m\n\u001b[1;32m----> 1\u001b[1;33m \u001b[0mSUB_Elementos\u001b[0m\u001b[1;33m[\u001b[0m\u001b[1;36m9\u001b[0m\u001b[1;33m]\u001b[0m\u001b[1;33m.\u001b[0m\u001b[0mang\u001b[0m\u001b[1;33m\u001b[0m\u001b[1;33m\u001b[0m\u001b[0m\n\u001b[0m",
      "\u001b[1;31mIndexError\u001b[0m: list index out of range"
     ]
    }
   ],
   "source": [
    "SUB_Elementos[9].ang"
   ]
  },
  {
   "cell_type": "code",
   "execution_count": 21,
   "id": "fd8ca515",
   "metadata": {},
   "outputs": [],
   "source": [
    "# Obtener cargar externas para los sub elementos\n",
    "coord = []\n",
    "\n",
    "tbl_sub_F_W = []\n",
    "\n",
    "for i in range(len(tbl_Fuer_W)):\n",
    "    Elemento = tbl_Fuer_W[i][0]\n",
    "    wi = tbl_Fuer_W[i][3]\n",
    "    wf = tbl_Fuer_W[i][4]\n",
    "    L = 0\n",
    "    \n",
    "    for n in range(len(elementos)):\n",
    "        if Elemento == elementos[n].Elem:\n",
    "            L = elementos[n].L\n",
    "            \n",
    "    for j in range(sub):\n",
    "        Elem = diccionario_sub_E[Elemento][j][0]\n",
    "        ################################################\n",
    "        ##################################################\n",
    "        \n",
    "        # Carga distibuida rectangular\n",
    "        #print(wi, wf)\n",
    "        if wi == wf:\n",
    "            \n",
    "            L_unitaria = L/sub*(j+1)\n",
    "            #print(L_unitaria)\n",
    "            sub_W = wi\n",
    "            tbl_sub_F_W.append([Elem, L/sub*j, L_unitaria,sub_W , sub_W])\n",
    "            \n",
    "            \n",
    "        #########################################################\n",
    "        ##############################################################\n",
    "            \n",
    "        # Carga distibuida triangular decreciente\n",
    "        \n",
    "        if  abs(wi) > 0  and abs(wf) == 0:\n",
    "            \n",
    "            W = wi\n",
    "            L_unitaria = L/sub\n",
    "            sub_wi = (W * L_unitaria * j) /L \n",
    "            sub_wf = (W * L_unitaria * (j+1))/L\n",
    "            tbl_sub_F_W.append([Elem, 0, L_unitaria,sub_wi , sub_wf])\n",
    "        \n",
    "        \n",
    "        # Carga distibuida triangular creciente\n",
    "        if  abs(wf) > 0  and abs(wi) == 0:\n",
    "            \n",
    "            W = wf\n",
    "            L_unitaria = L/sub\n",
    "            sub_wi = (W * L_unitaria * j) /L \n",
    "            sub_wf = (W * L_unitaria * (j+1))/L\n",
    "            tbl_sub_F_W.append([Elem, 0, L_unitaria,sub_wi , sub_wf])\n",
    "        \n",
    "        # Carga distibuida trapezoidal decreciente\n",
    "        if  abs(wi) > abs(wf) and abs(wf) > 0:\n",
    "            \n",
    "            W = (wi - wf)\n",
    "            L_unitaria = L/sub\n",
    "            sub_wi = (W * L_unitaria * j) /L + wf\n",
    "            sub_wf = (W * L_unitaria * (j+1))/L + wf\n",
    "            tbl_sub_F_W.append([Elem, 0, L_unitaria,sub_wi , sub_wf])\n",
    "        \n",
    "        # Carga distibuida trapezoidal creciente\n",
    "        if  abs(wi) < abs(wf) and abs(wi) > 0:\n",
    "            \n",
    "            W = (wf - wi)\n",
    "            L_unitaria = L/sub\n",
    "            sub_wi = wi + (W * L_unitaria * j) /L\n",
    "            sub_wf = wi + (W * L_unitaria * (j+1))/L\n",
    "            tbl_sub_F_W.append([Elem, 0, L_unitaria,sub_wi , sub_wf])\n"
   ]
  },
  {
   "cell_type": "code",
   "execution_count": 22,
   "id": "f88ea8a0",
   "metadata": {
    "scrolled": false
   },
   "outputs": [
    {
     "data": {
      "text/plain": [
       "[['1', 1, 2, 30, 30, 221.359],\n",
       " ['2', 2, 3, 30, 30, 221.359],\n",
       " ['3', 5, 6, 30, 30, 221.359],\n",
       " ['4', 6, 7, 30, 30, 221.359]]"
      ]
     },
     "execution_count": 22,
     "metadata": {},
     "output_type": "execute_result"
    }
   ],
   "source": [
    "tbl_sub_elementos"
   ]
  },
  {
   "cell_type": "code",
   "execution_count": 23,
   "id": "87945ea4",
   "metadata": {},
   "outputs": [
    {
     "data": {
      "text/plain": [
       "[[1, 0, 0.0],\n",
       " [2, 0, 200.0],\n",
       " [3, 0, 400.0],\n",
       " [4, 500.0, 400.0],\n",
       " [5, 1000.0, 400.0],\n",
       " [6, 1000, 0.0],\n",
       " [7, 1000, 200.0]]"
      ]
     },
     "execution_count": 23,
     "metadata": {},
     "output_type": "execute_result"
    }
   ],
   "source": [
    "tbl_sub_nodos"
   ]
  },
  {
   "cell_type": "code",
   "execution_count": 24,
   "id": "d9e44488",
   "metadata": {},
   "outputs": [
    {
     "data": {
      "text/plain": [
       "[]"
      ]
     },
     "execution_count": 24,
     "metadata": {},
     "output_type": "execute_result"
    }
   ],
   "source": [
    "tbl_sub_F_W"
   ]
  }
 ],
 "metadata": {
  "kernelspec": {
   "display_name": "Python 3 (ipykernel)",
   "language": "python",
   "name": "python3"
  },
  "language_info": {
   "codemirror_mode": {
    "name": "ipython",
    "version": 3
   },
   "file_extension": ".py",
   "mimetype": "text/x-python",
   "name": "python",
   "nbconvert_exporter": "python",
   "pygments_lexer": "ipython3",
   "version": "3.9.7"
  }
 },
 "nbformat": 4,
 "nbformat_minor": 5
}
