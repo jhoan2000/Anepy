{
 "cells": [
  {
   "cell_type": "code",
   "execution_count": 15,
   "id": "435a0478",
   "metadata": {},
   "outputs": [],
   "source": [
    "import numpy as np\n",
    "from math import cos, sin, radians, sqrt, pi, atan, tan\n"
   ]
  },
  {
   "cell_type": "code",
   "execution_count": 75,
   "id": "1cb8fc9f",
   "metadata": {},
   "outputs": [],
   "source": [
    "class Elemento():\n",
    "    def __init__(self,elemento, base, altura, moduloElastico, coordenada_xi, coordenada_yi, coordenada_xf, coordenada_yf, conexion):\n",
    "        \n",
    "        self.Elem = elemento\n",
    "        self.b = base\n",
    "        self.h = altura\n",
    "        self.E = moduloElastico\n",
    "        self.cxi = coordenada_xi\n",
    "        self.cyi = coordenada_yi\n",
    "        self.cxf = coordenada_xf\n",
    "        self.cyf = coordenada_yf\n",
    "        self.conex = conexion\n",
    "        # Propiedades del elemento\n",
    "        self.A = self.Area()\n",
    "        self.I = self.Inercia()\n",
    "        self.L = self.Longitud()\n",
    "        self.ang = self.Angulo()\n",
    "        self.l = self.coseno()\n",
    "        self.m = self.seno()\n",
    "\n",
    "    # Propiedades del elemento\n",
    "\n",
    "    def Area(self):\n",
    "        return self.b * self.h\n",
    "    def Inercia(self):\n",
    "        return (self.b * self.h**3) / 12\n",
    "    def Longitud(self):\n",
    "        return sqrt((self.cxf - self.cxi)**2 + (self.cyf - self.cyi)**2)\n",
    "    def Angulo(self):\n",
    "        b = (self.cxf - self.cxi)\n",
    "        h = (self.cyf - self.cyi)\n",
    "        try:\n",
    "            angulo = atan(h/b)*180/pi\n",
    "        except ZeroDivisionError:\n",
    "            angulo = 90\n",
    "        return angulo\n",
    "\n",
    "    def seno(self):\n",
    "        return sin(radians(self.ang))\n",
    "\n",
    "    def coseno(self):\n",
    "        return cos(radians(self.ang))        \n",
    "\n"
   ]
  },
  {
   "cell_type": "code",
   "execution_count": null,
   "id": "2821f92f",
   "metadata": {},
   "outputs": [],
   "source": []
  },
  {
   "cell_type": "code",
   "execution_count": 76,
   "id": "1660f914",
   "metadata": {},
   "outputs": [],
   "source": [
    "E  = 219498.39\n",
    "\n",
    "tbl_Elem = [\n",
    "    \n",
    "  # Elem, Ni, Nf, b, h, E,\n",
    "    [\"1\", 1, 2, 40, 40, E],\n",
    "    [\"2\", 2, 3, 40, 40, E],\n",
    "    [\"3\", 4, 3, 40, 40, E],\n",
    "\n",
    "    ]\n",
    "    \n",
    "tbl_Nod = [\n",
    "    #Nodo, cx, cy\n",
    "    [1, 0, 0],\n",
    "    [2, 0, 500],\n",
    "    [3, 1000, 767.95],\n",
    "    [4, 1000, 0],\n",
    "\n",
    "    ]\n",
    "        #El, Ni, Nf\n",
    "#print(nodos[:])\n",
    "tbl_Fuer = [\n",
    "    #Nod, fx, fy, Mz\n",
    "    [2,500, 0, 0],\n",
    "  \n",
    "    ]\n",
    "\n",
    "tbl_Fuer_W = [\n",
    "    #Elem, Li,Lf, Wi, Wf\n",
    "    [\"2\", 0, 1035, -1, -1],\n",
    "\n",
    "    ]\n",
    "\n",
    "tbl_Rest = [\n",
    "        #Tipo de Apoyo, Nodo\n",
    "        # Simple\n",
    "        # Articulado\n",
    "        # Empotrado\n",
    "    [\"Empotrado\", 1],\n",
    "    [\"Empotrado\", 4,],\n",
    "\n",
    "    ]\n",
    "\"\"\"====Diccionarios====\"\"\"\n",
    "# ==============Diccionarios de elementos==================#\n",
    "\n",
    "diccionarioE = {}\n",
    "\n",
    "for i in range(len(tbl_Elem)):\n",
    "    Elem = tbl_Elem[i][0]\n",
    "    Ni = tbl_Elem[i][1]\n",
    "    Nf = tbl_Elem[i][2]\n",
    "    b = tbl_Elem[i][3]\n",
    "    h = tbl_Elem[i][4]\n",
    "    E = tbl_Elem[i][5]   \n",
    "    diccionarioE[Elem] = [Ni, Nf, b, h, E]\n",
    "\n",
    "# ==============Diccionarios de nodos==================#\n",
    "    \n",
    "diccionarioN = {}\n",
    "\n",
    "for i in range(len(tbl_Nod)):\n",
    "    Nod = tbl_Nod[i][0]\n",
    "    cx = tbl_Nod[i][1]\n",
    "    cy = tbl_Nod[i][2]\n",
    "    diccionarioN[Nod] = [cx, cy]\n",
    "    "
   ]
  },
  {
   "cell_type": "code",
   "execution_count": 77,
   "id": "92a78492",
   "metadata": {},
   "outputs": [
    {
     "data": {
      "text/plain": [
       "{1: [0, 0], 2: [0, 500], 3: [1000, 767.95], 4: [1000, 0]}"
      ]
     },
     "execution_count": 77,
     "metadata": {},
     "output_type": "execute_result"
    }
   ],
   "source": [
    "diccionarioN"
   ]
  },
  {
   "cell_type": "code",
   "execution_count": 78,
   "id": "7e8a59d3",
   "metadata": {},
   "outputs": [],
   "source": [
    "elementos = [] # Almacena todos los elementos con sus propiedades\n",
    "\n",
    "def ext_elem(): # Elementos fuera del analisis\n",
    "\n",
    "    for i in range(len(tbl_Elem)):\n",
    "        Ni = tbl_Elem[i][1]\n",
    "        Nf = tbl_Elem[i][2]\n",
    "        b = tbl_Elem[i][3]\n",
    "        h = tbl_Elem[i][4]\n",
    "        Ele = tbl_Elem[i][0]    \n",
    "        conexion = [Ele, Ni, Nf]\n",
    "        xi = diccionarioN[Ni][0]\n",
    "        yi = diccionarioN[Ni][1]\n",
    "        xf = diccionarioN[Nf][0]\n",
    "        yf = diccionarioN[Nf][1]     \n",
    "        barra = Elemento(Ele,b, h, E, xi, yi, xf, yf, conexion)\n",
    "        elementos.append(barra) # Almacena elemento\n",
    "    return elementos\n",
    "\n",
    "\n",
    "elementos = ext_elem()\n",
    "        "
   ]
  },
  {
   "cell_type": "code",
   "execution_count": 79,
   "id": "e6189634",
   "metadata": {},
   "outputs": [
    {
     "data": {
      "text/plain": [
       "{1: [0, 0], 2: [0, 500], 3: [1000, 767.95], 4: [1000, 0]}"
      ]
     },
     "execution_count": 79,
     "metadata": {},
     "output_type": "execute_result"
    }
   ],
   "source": [
    "diccionarioN\n"
   ]
  },
  {
   "cell_type": "markdown",
   "id": "a86c367a",
   "metadata": {},
   "source": [
    "# SUB-DIVISIONES"
   ]
  },
  {
   "cell_type": "code",
   "execution_count": 80,
   "id": "3559e199",
   "metadata": {},
   "outputs": [
    {
     "name": "stdout",
     "output_type": "stream",
     "text": [
      "0 0.0\n",
      "0 250.0\n",
      "0 500.0\n",
      "0.0 500.0\n",
      "500.0 633.975\n",
      "1000.0 767.95\n",
      "1000 0.0\n",
      "1000 383.975\n",
      "1000 767.95\n"
     ]
    },
    {
     "data": {
      "text/plain": [
       "[[0, 0.0],\n",
       " [0, 250.0],\n",
       " [0, 500.0],\n",
       " [500.0, 633.975],\n",
       " [1000.0, 767.95],\n",
       " [1000, 0.0],\n",
       " [1000, 383.975]]"
      ]
     },
     "execution_count": 80,
     "metadata": {},
     "output_type": "execute_result"
    }
   ],
   "source": [
    "sub = 2\n",
    "coordenadas = []\n",
    "coor_sub_elementos = []\n",
    "\n",
    "for i in range(len(tbl_Elem)):\n",
    "    coord_p = [] # Guardado parcial\n",
    "    Elemento = elementos[i]\n",
    "    L = Elemento.L\n",
    "    L_unitaria = L/sub\n",
    "    \n",
    "    cxi = Elemento.cxi\n",
    "    cyi = Elemento.cyi\n",
    "    cxf = Elemento.cxf\n",
    "    cyf = Elemento.cyf\n",
    "    \n",
    "    ang = Elemento.ang\n",
    "    for j in range(sub+1):\n",
    "        \n",
    "        # Elementos horizontales\n",
    "        if angulo == 0: \n",
    "            cy = cyi\n",
    "            \n",
    "            if cyf-cyi <0:\n",
    "                #print(i+1,\"Yes\",cyi,cyf )\n",
    "                \n",
    "                cx = round(cxi - L_unitaria*j,5)\n",
    "            else:\n",
    "                cx = round(cxi + L_unitaria*j,5)\n",
    "                \n",
    "            #cx = cxi + L_unitaria*j\n",
    "            coord_p.append([cx,cy])\n",
    "            \n",
    "        # Elementos verticales\n",
    "        elif ang == 90:\n",
    "            \n",
    "            cx = Elemento.cxi\n",
    "            \n",
    "            if cyf-cyi <0:\n",
    "                #print(i+1,\"Yes\",cyi,cyf )\n",
    "                cy = Elemento.cyi - round(L_unitaria*j,5)\n",
    "            else:\n",
    "                cy = Elemento.cyi + round(L_unitaria*j,5)\n",
    "            coord_p.append([cx,cy])\n",
    "                \n",
    "        # Elementos inclinados crecientes\n",
    "        elif ang > 0 and ang < 90:\n",
    "            \"\"\"estos fracmento forman l_uni en un triangulo rectangulo\"\"\"\n",
    "            Ly_uni =  L_unitaria* sqrt(1/(1+(1/(tan(radians(ang))**2)))) # Longitud del fracmento en y\n",
    "            Lx_uni = Ly_uni/tan(radians(ang)) # Longitud del fracmento en x\n",
    "            #cx = Elemento.cxi + round(Lx_uni*j,5)\n",
    "            #cy = Elemento.cyi + round(Ly_uni*j,5)\n",
    "            \n",
    "            #si la diferencia  entre las coordenadas de los nodos es negativa \n",
    "            # entonces corrige o invierte la o peracio + o -\n",
    "            # Por ejem: Nf = (0,10), Ni = (20,10) x = (0-20), y = (10-10) como en x es negativa se debe restar L_uni..\n",
    "            if cyf-cyi <0:\n",
    "                print(i+1,\"Yes\",cyi,cyf )\n",
    "                cy =round( Elemento.cyi - Ly_uni*j,5)\n",
    "            else:\n",
    "                cy = round(Elemento.cyi + Ly_uni*j,5)\n",
    "                \n",
    "            if cxf-cxi <0:\n",
    "                print(i+1,\"Yes\",cyi,cyf )\n",
    "                cx = round(Elemento.cxi - Lx_uni*j,5)\n",
    "            else:\n",
    "                cx = round(Elemento.cxi + Lx_uni*j,5)\n",
    "                \n",
    "            coord_p.append([cx,cy])\n",
    "            \n",
    "            #print(\"j=\",j, \"Ly= \",Ly_uni,\"Lx= \",Lx_uni, \"cx= \",cx, \"cy= \", cy)\n",
    "                \n",
    "        # Elementos inclinados decrecientes\n",
    "        elif ang < 0:\n",
    "            \"\"\"estos fracmento forman l_uni en un triangulo rectangulo\"\"\"\n",
    "            Ly_uni =  L_unitaria* sqrt(1/(1+(1/(tan(radians(ang))**2)))) # Longitud del fracmento en y\n",
    "            Lx_uni = Ly_uni/tan(radians(ang)) # Longitud del fracmento en x\n",
    "            \n",
    "            cx = Elemento.cxi - round(Lx_uni*j,5)\n",
    "            cy = Elemento.cyi - round(Ly_uni*j,5)\n",
    "               \n",
    "            if cxf-cxi <0:\n",
    "                print(i+1,\"Yes\",cyi,cyf )\n",
    "                cx = round(Elemento.cxi + Lx_uni*j,5)\n",
    "            else:\n",
    "                cx = round(Elemento.cxi - Lx_uni*j,5)\n",
    "            \n",
    "            if cyf-cyi <0:\n",
    "                #print(i+1,\"Yes\",cyi,cyf )\n",
    "                cy =round( Elemento.cyi + Ly_uni*j,5)\n",
    "            else:\n",
    "                cy = round(Elemento.cyi - Ly_uni*j,5)\n",
    "            coord_p.append([cx,cy])\n",
    "            \n",
    "        print(cx,cy)\n",
    "        if [cx, cy] not in coordenadas: # Se chequea si la coord ya esta incluida\n",
    "            coordenadas.append([cx,cy])\n",
    "    coor_sub_elementos.append(coord_p)\n",
    "coor_sub_elementos\n",
    "coordenadas"
   ]
  },
  {
   "cell_type": "code",
   "execution_count": 81,
   "id": "2f44e6b8",
   "metadata": {},
   "outputs": [
    {
     "data": {
      "text/plain": [
       "{1: [0, 0.0],\n",
       " 2: [0, 250.0],\n",
       " 3: [0, 500.0],\n",
       " 4: [500.0, 633.975],\n",
       " 5: [1000.0, 767.95],\n",
       " 6: [1000, 0.0],\n",
       " 7: [1000, 383.975]}"
      ]
     },
     "execution_count": 81,
     "metadata": {},
     "output_type": "execute_result"
    }
   ],
   "source": [
    "tbl_sub_nodos = []\n",
    "dic_sub_nodos = {}\n",
    "id_nodo = 0\n",
    "for n in range(len(coordenadas)):\n",
    "    cx, cy = coordenadas[n]\n",
    "    id_nodo += 1\n",
    "    tbl_sub_nodos.append([id_nodo, cx, cy])\n",
    "    dic_sub_nodos[id_nodo] = [cx, cy]\n",
    "#tbl_sub_nodos \n",
    "\n",
    "dic_sub_nodos "
   ]
  },
  {
   "cell_type": "code",
   "execution_count": 82,
   "id": "138b2b83",
   "metadata": {},
   "outputs": [],
   "source": [
    "tbl_sub_elementos = []\n",
    "dic_sub_elem_x_Elem = {}\n",
    "id_elementos = 0\n",
    "for i in range(len(tbl_Elem)):\n",
    "    Elemento = elementos[i]\n",
    "    Elem = Elemento.Elem\n",
    "    b = Elemento.b\n",
    "    h = Elemento.h\n",
    "    E = Elemento.E\n",
    "    angulo = Elemento.ang\n",
    "    sub_elementos_p = []\n",
    "    for j in range(sub):\n",
    "        id_elementos += 1\n",
    "        \n",
    "        ci = coor_sub_elementos[i][j]\n",
    "        cf = coor_sub_elementos[i][j+1]\n",
    "\n",
    "        for m in range(len(tbl_sub_nodos)):\n",
    "\n",
    "            N = m+1   \n",
    "            \n",
    "            if dic_sub_nodos[N] == ci:\n",
    "                Ni = N\n",
    "            if dic_sub_nodos[N] == cf:\n",
    "                Nf = N  \n",
    "        tbl_sub_elementos.append([str(id_elementos), Ni, Nf, b, h, E])\n",
    "        sub_elementos_p.append([str(id_elementos), Ni, Nf, b, h, E])\n",
    "    dic_sub_elem_x_Elem[Elem] = sub_elementos_p\n"
   ]
  },
  {
   "cell_type": "code",
   "execution_count": 83,
   "id": "834cffe2",
   "metadata": {},
   "outputs": [],
   "source": [
    "dic_sub_elementos = {}\n",
    "for i in range(len(tbl_sub_elementos)):\n",
    "    Elem = tbl_sub_elementos[i][0]\n",
    "    Ni = tbl_sub_elementos[i][1]\n",
    "    Nf = tbl_sub_elementos[i][2]\n",
    "    b = tbl_sub_elementos[i][3]\n",
    "    h = tbl_sub_elementos[i][4]\n",
    "    E = tbl_sub_elementos[i][5]   \n",
    "    dic_sub_elementos[Elem] = [Ni, Nf, b, h, E]"
   ]
  },
  {
   "cell_type": "code",
   "execution_count": 84,
   "id": "e054212f",
   "metadata": {},
   "outputs": [
    {
     "data": {
      "text/plain": [
       "{'1': [1, 2, 40, 40, 219498.39],\n",
       " '2': [2, 3, 40, 40, 219498.39],\n",
       " '3': [3, 4, 40, 40, 219498.39],\n",
       " '4': [4, 5, 40, 40, 219498.39],\n",
       " '5': [6, 7, 40, 40, 219498.39],\n",
       " '6': [7, 5, 40, 40, 219498.39]}"
      ]
     },
     "execution_count": 84,
     "metadata": {},
     "output_type": "execute_result"
    }
   ],
   "source": [
    "dic_sub_elementos"
   ]
  },
  {
   "cell_type": "code",
   "execution_count": 85,
   "id": "4f207dff",
   "metadata": {},
   "outputs": [],
   "source": [
    "class Sub_Elementos():\n",
    "    def __init__(self,elemento, base, altura, moduloElastico, coordenada_xi, coordenada_yi, coordenada_xf, coordenada_yf, conexion):\n",
    "        \n",
    "        self.Elem = elemento\n",
    "        self.b = base\n",
    "        self.h = altura\n",
    "        self.E = moduloElastico\n",
    "        self.cxi = coordenada_xi\n",
    "        self.cyi = coordenada_yi\n",
    "        self.cxf = coordenada_xf\n",
    "        self.cyf = coordenada_yf\n",
    "        self.conex = conexion\n",
    "        # Propiedades del elemento\n",
    "        self.A = self.Area()\n",
    "        self.I = self.Inercia()\n",
    "        self.L = self.Longitud()\n",
    "        self.ang = self.Angulo()\n",
    "        self.l = self.coseno()\n",
    "        self.m = self.seno()\n",
    "\n",
    "    # Propiedades del elemento\n",
    "\n",
    "    def Area(self):\n",
    "        return self.b * self.h\n",
    "    def Inercia(self):\n",
    "        return (self.b * self.h**3) / 12\n",
    "    def Longitud(self):\n",
    "        return sqrt((self.cxf - self.cxi)**2 + (self.cyf - self.cyi)**2)\n",
    "    def Angulo(self):\n",
    "        b = (self.cxf - self.cxi)\n",
    "        h = (self.cyf - self.cyi)\n",
    "        try:\n",
    "            angulo = atan(h/b)*180/pi\n",
    "        except ZeroDivisionError:\n",
    "            angulo = 90\n",
    "        return angulo\n",
    "\n",
    "    def seno(self):\n",
    "        return sin(radians(self.ang))\n",
    "\n",
    "    def coseno(self):\n",
    "        return cos(radians(self.ang))        "
   ]
  },
  {
   "cell_type": "code",
   "execution_count": 86,
   "id": "15069e05",
   "metadata": {},
   "outputs": [],
   "source": [
    "sub_elementos = [] # Almacena todos los elementos con sus propiedades\n",
    "for i in range(len(tbl_sub_elementos)):\n",
    "    Ni = tbl_sub_elementos[i][1]\n",
    "    Nf = tbl_sub_elementos[i][2]\n",
    "    b = tbl_sub_elementos[i][3]\n",
    "    h = tbl_sub_elementos[i][4]\n",
    "    Ele = tbl_sub_elementos[i][0]    \n",
    "    conexion = [Ele, Ni, Nf]\n",
    "    xi = dic_sub_nodos[Ni][0]\n",
    "    yi = dic_sub_nodos[Ni][1]\n",
    "    xf = dic_sub_nodos[Nf][0]\n",
    "    yf = dic_sub_nodos[Nf][1]     \n",
    "    barra = Sub_Elementos(Ele,b, h, E, xi, yi, xf, yf, conexion)\n",
    "    sub_elementos.append(barra) # Almacena elemento"
   ]
  },
  {
   "cell_type": "code",
   "execution_count": 87,
   "id": "8fe7d9a8",
   "metadata": {},
   "outputs": [],
   "source": [
    "# Obtener cargar externas para los sub elementos\n",
    "tbl_sub_F_W = []\n",
    "\n",
    "for i in range(len(tbl_Fuer_W)):\n",
    "    Elemento = tbl_Fuer_W[i][0]\n",
    "    wi = tbl_Fuer_W[i][3]\n",
    "    wf = tbl_Fuer_W[i][4]\n",
    "    L = 0\n",
    "    \n",
    "    for n in range(len(elementos)): # Extra la longitud del elemento sin sub...\n",
    "        if Elemento == elementos[n].Elem:\n",
    "            L = elementos[n].L\n",
    "\n",
    "    for j in range(sub):\n",
    "        \n",
    "        Elem = dic_sub_elem_x_Elem[Elemento][j][0]\n",
    "   \n",
    "        ################################################\n",
    "        ##################################################\n",
    "        # Carga distibuida rectangular\n",
    "        #print(wi, wf)\n",
    "        if wi == wf:\n",
    "            \n",
    "            L_unitaria = L/sub*(j+1)\n",
    "            #print(L_unitaria)\n",
    "            sub_W = wi\n",
    "            tbl_sub_F_W.append([Elem, L/sub*j, L_unitaria,sub_W , sub_W])\n",
    "            \n",
    "            \n",
    "        #########################################################\n",
    "        ##############################################################\n",
    "            \n",
    "        # Carga distibuida triangular decreciente\n",
    "        \n",
    "        if  abs(wi) > 0  and abs(wf) == 0:\n",
    "            \n",
    "            W = wi\n",
    "            L_unitaria = L/sub\n",
    "            sub_wi = (W * L_unitaria * j) /L \n",
    "            sub_wf = (W * L_unitaria * (j+1))/L\n",
    "            tbl_sub_F_W.append([Elem, 0, L_unitaria,sub_wi , sub_wf])\n",
    "        \n",
    "        \n",
    "        # Carga distibuida triangular creciente\n",
    "        if  abs(wf) > 0  and abs(wi) == 0:\n",
    "            \n",
    "            W = wf\n",
    "            L_unitaria = L/sub\n",
    "            sub_wi = (W * L_unitaria * j) /L \n",
    "            sub_wf = (W * L_unitaria * (j+1))/L\n",
    "            tbl_sub_F_W.append([Elem, 0, L_unitaria,sub_wi , sub_wf])\n",
    "        \n",
    "        # Carga distibuida trapezoidal decreciente\n",
    "        if  abs(wi) > abs(wf) and abs(wf) > 0:\n",
    "            \n",
    "            W = (wi - wf)\n",
    "            L_unitaria = L/sub\n",
    "            sub_wi = (W * L_unitaria * j) /L + wf\n",
    "            sub_wf = (W * L_unitaria * (j+1))/L + wf\n",
    "            tbl_sub_F_W.append([Elem, 0, L_unitaria,sub_wi , sub_wf])\n",
    "        \n",
    "        # Carga distibuida trapezoidal creciente\n",
    "        if  abs(wi) < abs(wf) and abs(wi) > 0:\n",
    "            \n",
    "            W = (wf - wi)\n",
    "            L_unitaria = L/sub\n",
    "            sub_wi = wi + (W * L_unitaria * j) /L\n",
    "            sub_wf = wi + (W * L_unitaria * (j+1))/L\n",
    "            tbl_sub_F_W.append([Elem, 0, L_unitaria,sub_wi , sub_wf])\n",
    "\n",
    "\n",
    "#tbl_sub_F_W      "
   ]
  },
  {
   "cell_type": "markdown",
   "id": "0dac7251",
   "metadata": {},
   "source": [
    "# Consulta por el nodo real"
   ]
  },
  {
   "cell_type": "code",
   "execution_count": 88,
   "id": "6fde6927",
   "metadata": {},
   "outputs": [],
   "source": [
    "def nodo_ireal(nodo):\n",
    "    coordenadas_reales = diccionarioN[nodo]\n",
    "    for i in range(len(tbl_sub_nodos)):\n",
    "        sub_N = i+1\n",
    "        if coordenadas_reales == dic_sub_nodos[sub_N]:\n",
    "            Nod = sub_N\n",
    "            return Nod"
   ]
  },
  {
   "cell_type": "code",
   "execution_count": 89,
   "id": "4dd3d82c",
   "metadata": {},
   "outputs": [],
   "source": [
    "tbl_sub_Fuer = []\n",
    "\n",
    "for j in range(len(tbl_Fuer)):\n",
    "    Nod = tbl_Fuer[j][0]\n",
    "    fx = tbl_Fuer[j][1]\n",
    "    fy = tbl_Fuer[j][2]\n",
    "    mz = tbl_Fuer[j][3]\n",
    "    sub_N = nodo_ireal(Nod)\n",
    "    tbl_sub_Fuer.append([sub_N, fx, fy, mz])\n",
    "#tbl_sub_Fuer"
   ]
  },
  {
   "cell_type": "code",
   "execution_count": 90,
   "id": "787a6b50",
   "metadata": {
    "scrolled": true
   },
   "outputs": [
    {
     "data": {
      "text/plain": [
       "[['Empotrado', 1], ['Empotrado', 6]]"
      ]
     },
     "execution_count": 90,
     "metadata": {},
     "output_type": "execute_result"
    }
   ],
   "source": [
    "tbl_sub_restricciones = []\n",
    "\n",
    "for j in range(len(tbl_Rest)):\n",
    "    N_rest = tbl_Rest[j][1]\n",
    "    tipo = tbl_Rest[j][0]\n",
    "    sub_N = nodo_ireal(N_rest)\n",
    "    tbl_sub_restricciones.append([tipo, sub_N])\n",
    "tbl_sub_restricciones"
   ]
  },
  {
   "cell_type": "code",
   "execution_count": 91,
   "id": "eb35864b",
   "metadata": {
    "scrolled": false
   },
   "outputs": [
    {
     "data": {
      "text/plain": [
       "[['1', 1, 2, 40, 40, 219498.39],\n",
       " ['2', 2, 3, 40, 40, 219498.39],\n",
       " ['3', 3, 4, 40, 40, 219498.39],\n",
       " ['4', 4, 5, 40, 40, 219498.39],\n",
       " ['5', 6, 7, 40, 40, 219498.39],\n",
       " ['6', 7, 5, 40, 40, 219498.39]]"
      ]
     },
     "execution_count": 91,
     "metadata": {},
     "output_type": "execute_result"
    }
   ],
   "source": [
    "tbl_sub_elementos"
   ]
  },
  {
   "cell_type": "code",
   "execution_count": 92,
   "id": "ac64393f",
   "metadata": {},
   "outputs": [
    {
     "ename": "IndentationError",
     "evalue": "unexpected indent (1132126425.py, line 2)",
     "output_type": "error",
     "traceback": [
      "\u001b[1;36m  File \u001b[1;32m\"C:\\Users\\Estudiante\\AppData\\Local\\Temp\\ipykernel_2496\\1132126425.py\"\u001b[1;36m, line \u001b[1;32m2\u001b[0m\n\u001b[1;33m    ['2', 2, 3, 40, 40, 219498.39],\u001b[0m\n\u001b[1;37m    ^\u001b[0m\n\u001b[1;31mIndentationError\u001b[0m\u001b[1;31m:\u001b[0m unexpected indent\n"
     ]
    }
   ],
   "source": [
    "['1', 1, 2, 40, 40, 219498.39],\n",
    " ['2', 2, 3, 40, 40, 219498.39],\n",
    " ['3', 3, 4, 40, 40, 219498.39],\n",
    " ['4', 4, 5, 40, 40, 219498.39],\n",
    " ['5', 5, 6, 40, 40, 219498.39],\n",
    " ['6', 6, 7, 40, 40, 219498.39]]"
   ]
  },
  {
   "cell_type": "code",
   "execution_count": 93,
   "id": "e0b42e75",
   "metadata": {
    "scrolled": false
   },
   "outputs": [
    {
     "data": {
      "text/plain": [
       "[[1, 0, 0.0],\n",
       " [2, 0, 250.0],\n",
       " [3, 0, 500.0],\n",
       " [4, 500.0, 633.975],\n",
       " [5, 1000.0, 767.95],\n",
       " [6, 1000, 0.0],\n",
       " [7, 1000, 383.975]]"
      ]
     },
     "execution_count": 93,
     "metadata": {},
     "output_type": "execute_result"
    }
   ],
   "source": [
    "tbl_sub_nodos"
   ]
  },
  {
   "cell_type": "code",
   "execution_count": 72,
   "id": "b9634938",
   "metadata": {},
   "outputs": [
    {
     "data": {
      "text/plain": [
       "[[3, 500, 0, 0]]"
      ]
     },
     "execution_count": 72,
     "metadata": {},
     "output_type": "execute_result"
    }
   ],
   "source": [
    "tbl_sub_Fuer"
   ]
  },
  {
   "cell_type": "code",
   "execution_count": 73,
   "id": "aa8eabe2",
   "metadata": {},
   "outputs": [
    {
     "data": {
      "text/plain": [
       "[['3', 0.0, 517.6381947122914, -1, -1],\n",
       " ['4', 517.6381947122914, 1035.2763894245827, -1, -1]]"
      ]
     },
     "execution_count": 73,
     "metadata": {},
     "output_type": "execute_result"
    }
   ],
   "source": [
    "tbl_sub_F_W"
   ]
  },
  {
   "cell_type": "code",
   "execution_count": 74,
   "id": "6694fe01",
   "metadata": {},
   "outputs": [
    {
     "data": {
      "text/plain": [
       "[['Empotrado', 1], ['Empotrado', 7]]"
      ]
     },
     "execution_count": 74,
     "metadata": {},
     "output_type": "execute_result"
    }
   ],
   "source": [
    "tbl_sub_restricciones"
   ]
  },
  {
   "cell_type": "code",
   "execution_count": 48,
   "id": "bc9eb60e",
   "metadata": {},
   "outputs": [
    {
     "data": {
      "text/plain": [
       "7"
      ]
     },
     "execution_count": 48,
     "metadata": {},
     "output_type": "execute_result"
    }
   ],
   "source": [
    "nodo_ireal(4)\n",
    "#dic_sub_elem_x_Elem[\"8\"]"
   ]
  },
  {
   "cell_type": "code",
   "execution_count": 87,
   "id": "be12ad12",
   "metadata": {},
   "outputs": [
    {
     "data": {
      "text/plain": [
       "{1: [0, 500.0],\n",
       " 2: [0, 750.0],\n",
       " 3: [0, 1000.0],\n",
       " 4: [500.0, 633.975],\n",
       " 5: [1000.0, 767.95],\n",
       " 6: [1000, 0.0],\n",
       " 7: [1000, 383.975]}"
      ]
     },
     "execution_count": 87,
     "metadata": {},
     "output_type": "execute_result"
    }
   ],
   "source": []
  },
  {
   "cell_type": "code",
   "execution_count": null,
   "id": "fcdcc3ca",
   "metadata": {},
   "outputs": [],
   "source": [
    "#Pruebas"
   ]
  },
  {
   "cell_type": "code",
   "execution_count": 22,
   "id": "2ef10f95",
   "metadata": {},
   "outputs": [
    {
     "data": {
      "text/plain": [
       "False"
      ]
     },
     "execution_count": 22,
     "metadata": {},
     "output_type": "execute_result"
    }
   ],
   "source": []
  },
  {
   "cell_type": "code",
   "execution_count": 23,
   "id": "b9938db6",
   "metadata": {},
   "outputs": [
    {
     "data": {
      "text/plain": [
       "False"
      ]
     },
     "execution_count": 23,
     "metadata": {},
     "output_type": "execute_result"
    }
   ],
   "source": []
  },
  {
   "cell_type": "code",
   "execution_count": 24,
   "id": "6ec8cd4f",
   "metadata": {},
   "outputs": [
    {
     "data": {
      "text/plain": [
       "False"
      ]
     },
     "execution_count": 24,
     "metadata": {},
     "output_type": "execute_result"
    }
   ],
   "source": []
  },
  {
   "cell_type": "code",
   "execution_count": 106,
   "id": "8c761877",
   "metadata": {},
   "outputs": [
    {
     "data": {
      "text/plain": [
       "True"
      ]
     },
     "execution_count": 106,
     "metadata": {},
     "output_type": "execute_result"
    }
   ],
   "source": [
    "tbl_sub_restricciones == [['Empotrado', 1], ['Empotrado', 6], ['Empotrado', 11]]"
   ]
  },
  {
   "cell_type": "code",
   "execution_count": 26,
   "id": "e2937d5e",
   "metadata": {},
   "outputs": [],
   "source": [
    "nodo_ireal(4)"
   ]
  }
 ],
 "metadata": {
  "kernelspec": {
   "display_name": "Python 3 (ipykernel)",
   "language": "python",
   "name": "python3"
  },
  "language_info": {
   "codemirror_mode": {
    "name": "ipython",
    "version": 3
   },
   "file_extension": ".py",
   "mimetype": "text/x-python",
   "name": "python",
   "nbconvert_exporter": "python",
   "pygments_lexer": "ipython3",
   "version": "3.9.13"
  }
 },
 "nbformat": 4,
 "nbformat_minor": 5
}
