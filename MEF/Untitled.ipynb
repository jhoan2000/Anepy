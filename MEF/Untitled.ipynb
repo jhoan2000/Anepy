{
 "cells": [
  {
   "cell_type": "code",
   "execution_count": 1,
   "id": "19926e4a",
   "metadata": {},
   "outputs": [],
   "source": [
    "import numpy as np\n",
    "from math import cos, sin, radians, sqrt, pi, atan, tan\n"
   ]
  },
  {
   "cell_type": "code",
   "execution_count": 2,
   "id": "e1f5ee63",
   "metadata": {},
   "outputs": [],
   "source": [
    "class Elemento():\n",
    "    def __init__(self,elemento, base, altura, moduloElastico, coordenada_xi, coordenada_yi, coordenada_xf, coordenada_yf, conexion):\n",
    "        \n",
    "        self.Elem = elemento\n",
    "        self.b = base\n",
    "        self.h = altura\n",
    "        self.E = moduloElastico\n",
    "        self.cxi = coordenada_xi\n",
    "        self.cyi = coordenada_yi\n",
    "        self.cxf = coordenada_xf\n",
    "        self.cyf = coordenada_yf\n",
    "        self.conex = conexion\n",
    "        # Propiedades del elemento\n",
    "        self.A = self.Area()\n",
    "        self.I = self.Inercia()\n",
    "        self.L = self.Longitud()\n",
    "        self.ang = self.Angulo()\n",
    "        self.l = self.coseno()\n",
    "        self.m = self.seno()\n",
    "\n",
    "    # Propiedades del elemento\n",
    "\n",
    "    def Area(self):\n",
    "        return self.b * self.h\n",
    "    def Inercia(self):\n",
    "        return (self.b * self.h**3) / 12\n",
    "    def Longitud(self):\n",
    "        return sqrt((self.cxf - self.cxi)**2 + (self.cyf - self.cyi)**2)\n",
    "    def Angulo(self):\n",
    "        b = (self.cxf - self.cxi)\n",
    "        h = (self.cyf - self.cyi)\n",
    "        try:\n",
    "            angulo = atan(h/b)*180/pi\n",
    "        except ZeroDivisionError:\n",
    "            angulo = 90\n",
    "        return angulo\n",
    "\n",
    "    def seno(self):\n",
    "        return sin(radians(self.ang))\n",
    "\n",
    "    def coseno(self):\n",
    "        return cos(radians(self.ang))        \n",
    "\n"
   ]
  },
  {
   "cell_type": "code",
   "execution_count": 3,
   "id": "0588715a",
   "metadata": {},
   "outputs": [],
   "source": [
    "\n",
    "E  = 221.359\n",
    "\n",
    "tbl_Elem = [\n",
    "    \n",
    "  # Elem, Ni, Nf, b, h, E,\n",
    "   ['1', 1, 2, 30, 30, E],\n",
    " ['2', 2, 3, 30, 60, E],\n",
    " ['3', 4, 3, 30, 30, E],]\n",
    "    \n",
    "tbl_Nod = [\n",
    "    #Nodo, cx, cy\n",
    " [1, 0, 0.0],\n",
    " [2, 0, 400.0],\n",
    " [3, 1000.0, 400],\n",
    " [4, 1000, 0.0],\n",
    "\n",
    " ]\n",
    "        #El, Ni, Nf\n",
    "#print(nodos[:])\n",
    "tbl_Fuer = [\n",
    "    \n",
    "    #Nod, fx, fy, Mz\n",
    "    [2,100, 0, 0],\n",
    "  \n",
    "    ]\n",
    "\n",
    "tbl_Fuer_W = [\n",
    "    #Elem, Li,Lf, Wi, Wf\n",
    "    #[\"1\", 0, 500, -50, 0], # borrar Li y Lf\n",
    "\n",
    "    ]\n",
    "\n",
    "tbl_Rest = [\n",
    "        #Tipo de Apoyo, Nodo\n",
    "        # Simple\n",
    "        # Articulado\n",
    "        # Empotrado\n",
    "    [\"Empotrado\", 1],\n",
    "    [\"Articulado\", 4,],\n",
    "    #[\"Articulado\", 4,],\n",
    "    ]\n",
    "\n",
    "\"\"\"====Diccionarios====\"\"\"\n",
    "# ==============Diccionarios de elementos==================#\n",
    "\n",
    "diccionarioE = {}\n",
    "\n",
    "for i in range(len(tbl_Elem)):\n",
    "    Elem = tbl_Elem[i][0]\n",
    "    Ni = tbl_Elem[i][1]\n",
    "    Nf = tbl_Elem[i][2]\n",
    "    b = tbl_Elem[i][3]\n",
    "    h = tbl_Elem[i][4]\n",
    "    E = tbl_Elem[i][5]   \n",
    "    diccionarioE[Elem] = [Ni, Nf, b, h, E]\n",
    "\n",
    "# ==============Diccionarios de nodos==================#\n",
    "    \n",
    "diccionarioN = {}\n",
    "\n",
    "for i in range(len(tbl_Nod)):\n",
    "    Nod = tbl_Nod[i][0]\n",
    "    cx = tbl_Nod[i][1]\n",
    "    cy = tbl_Nod[i][2]\n",
    "    diccionarioN[Nod] = [cx, cy]\n",
    "    "
   ]
  },
  {
   "cell_type": "code",
   "execution_count": 4,
   "id": "59faeac6",
   "metadata": {},
   "outputs": [],
   "source": [
    "elementos = [] # Almacena todos los elementos con sus propiedades\n",
    "\n",
    "def ext_elem(): # Elementos fuera del analisis\n",
    "\n",
    "    for i in range(len(tbl_Elem)):\n",
    "        Ni = tbl_Elem[i][1]\n",
    "        Nf = tbl_Elem[i][2]\n",
    "        b = tbl_Elem[i][3]\n",
    "        h = tbl_Elem[i][4]\n",
    "        Ele = tbl_Elem[i][0]    \n",
    "        conexion = [Ele, Ni, Nf]\n",
    "        xi = diccionarioN[Ni][0]\n",
    "        yi = diccionarioN[Ni][1]\n",
    "        xf = diccionarioN[Nf][0]\n",
    "        yf = diccionarioN[Nf][1]     \n",
    "        barra = Elemento(Ele,b, h, E, xi, yi, xf, yf, conexion)\n",
    "        elementos.append(barra) # Almacena elemento\n",
    "    return elementos\n",
    "\n",
    "\n",
    "elementos = ext_elem()\n",
    "        "
   ]
  },
  {
   "cell_type": "code",
   "execution_count": 5,
   "id": "d2a4cb89",
   "metadata": {},
   "outputs": [
    {
     "data": {
      "text/plain": [
       "[[[0, 0.0], [0, 100.0], [0, 200.0], [0, 300.0], [0, 400.0]],\n",
       " [[0.0, 400.0],\n",
       "  [250.0, 400.0],\n",
       "  [500.0, 400.0],\n",
       "  [750.0, 400.0],\n",
       "  [1000.0, 400.0]],\n",
       " [[1000, 0.0], [1000, 100.0], [1000, 200.0], [1000, 300.0], [1000, 400.0]]]"
      ]
     },
     "execution_count": 5,
     "metadata": {},
     "output_type": "execute_result"
    }
   ],
   "source": [
    "sub = 4\n",
    "coordenadas = []\n",
    "coor_sub_elementos = []\n",
    "cheq = []\n",
    "for i in range(len(tbl_Elem)):\n",
    "    coor_p = []\n",
    "    Elemento = elementos[i]\n",
    "    L = Elemento.L\n",
    "    L_unitaria = L / sub\n",
    "    Ni = Elemento.conex[1]\n",
    "    Nf = Elemento.conex[2]\n",
    "    cxi = Elemento.cxi\n",
    "    cyi = Elemento.cyi\n",
    "    cxf = Elemento.cxf\n",
    "    cyf = Elemento.cyf\n",
    "    angulo = Elemento.ang\n",
    "    cont = 0\n",
    "    for j in range(sub+1):\n",
    "        if angulo == 0: \n",
    "            cy = Elemento.cyi\n",
    "            cx = Elemento.cxi + round(L_unitaria*j,5)\n",
    "            coor_p.append([cx,cy])\n",
    "            \n",
    "        if cont < sub:  \n",
    "            if angulo == 0: \n",
    "                cont += 1 \n",
    "                cy = Elemento.cyi\n",
    "                cx = Elemento.cxi + round(L_unitaria*j,5)\n",
    "                cheq.append([cx,cy])\n",
    "                if cheq.count([cx, cy]) < 2: # Se chequea si la coord ya esta incluida\n",
    "                    coordenadas.append([cx,cy])\n",
    "                    \n",
    "        # Elementos verticales\n",
    "        if angulo == 90:\n",
    "            cx = Elemento.cxi\n",
    "            cy = Elemento.cyi + round(L_unitaria*j,5)            \n",
    "            cheq.append([cx,cy])\n",
    "            coor_p.append([cx,cy])\n",
    "            if cheq.count([cx, cy]) < 2: # Se chequea si la coord ya esta incluida\n",
    "                coordenadas.append([cx,cy])\n",
    "        # Elementos inclinados crecientes\n",
    "        \n",
    "        elif angulo > 0 and ang < 90:\n",
    "            \"\"\"estos fracmento forman l_uni en un triangulo rectangulo\"\"\"\n",
    "            Ly_uni =  L_unitaria* sqrt(1/(1+(1/(tan(radians(ang))**2)))) # Longitud del fracmento en y\n",
    "            Lx_uni = Ly_uni/tan(radians(ang)) # Longitud del fracmento en x\n",
    "            cx = Elemento.cxi + round(Lx_uni*j,5)\n",
    "            cy = Elemento.cyi + round(Ly_uni*j,5)\n",
    "            \n",
    "            #print(\"j=\",j, \"Ly= \",Ly_uni,\"Lx= \",Lx_uni, \"cx= \",cx, \"cy= \", cy)\n",
    "            cheq.append([cx,cy])\n",
    "            coor_p.append([cx,cy])\n",
    "            if cheq.count([cx, cy]) < 2: # Se chequea si la coord ya esta incluida\n",
    "                coordenadas.append([cx,cy])\n",
    "                \n",
    "        # Elementos inclinados decrecientes\n",
    "        elif angulo < 0:\n",
    "            Ly_uni =  L_unitaria* sqrt(1/(1+(1/(tan(radians(ang))**2)))) # Longitud del fracmento en y\n",
    "            Lx_uni = Ly/tan(radians(ang)) # Longitud del fracmento en x\n",
    "            cx = Elemento.cxi - round(Lx_uni*j,5)\n",
    "            cy = Elemento.cyi - round(Ly_uni*j,5)\n",
    "            \n",
    "            cheq.append([cx,cy])\n",
    "            coor_p.append([cx,cy])\n",
    "            if cheq.count([cx, cy]) < 2: # Se chequea si la coord ya esta incluida\n",
    "                coordenadas.append([cx,cy])\n",
    "\n",
    "    coor_sub_elementos.append(coor_p)\n",
    "coordenadas\n",
    "coor_sub_elementos"
   ]
  },
  {
   "cell_type": "code",
   "execution_count": 6,
   "id": "11c3461d",
   "metadata": {},
   "outputs": [
    {
     "data": {
      "text/plain": [
       "{1: [0, 0.0],\n",
       " 2: [0, 100.0],\n",
       " 3: [0, 200.0],\n",
       " 4: [0, 300.0],\n",
       " 5: [0, 400.0],\n",
       " 6: [250.0, 400.0],\n",
       " 7: [500.0, 400.0],\n",
       " 8: [750.0, 400.0],\n",
       " 9: [1000, 0.0],\n",
       " 10: [1000, 100.0],\n",
       " 11: [1000, 200.0],\n",
       " 12: [1000, 300.0],\n",
       " 13: [1000, 400.0]}"
      ]
     },
     "execution_count": 6,
     "metadata": {},
     "output_type": "execute_result"
    }
   ],
   "source": [
    "tbl_sub_nodos = []\n",
    "dic_sub_nodos = {}\n",
    "id_nodo = 0\n",
    "for n in range(len(coordenadas)):\n",
    "    cx, cy = coordenadas[n]\n",
    "    id_nodo += 1\n",
    "    tbl_sub_nodos.append([id_nodo, cx, cy])\n",
    "    dic_sub_nodos[id_nodo] = [cx, cy]\n",
    "tbl_sub_nodos \n",
    "dic_sub_nodos"
   ]
  },
  {
   "cell_type": "code",
   "execution_count": 7,
   "id": "99f0886f",
   "metadata": {},
   "outputs": [
    {
     "data": {
      "text/plain": [
       "[['1', 1, 2, 30, 30, 221.359],\n",
       " ['2', 2, 3, 30, 30, 221.359],\n",
       " ['3', 3, 4, 30, 30, 221.359],\n",
       " ['4', 4, 5, 30, 30, 221.359],\n",
       " ['5', 5, 6, 30, 60, 221.359],\n",
       " ['6', 6, 7, 30, 60, 221.359],\n",
       " ['7', 7, 8, 30, 60, 221.359],\n",
       " ['8', 8, 13, 30, 60, 221.359],\n",
       " ['9', 9, 10, 30, 30, 221.359],\n",
       " ['10', 10, 11, 30, 30, 221.359],\n",
       " ['11', 11, 12, 30, 30, 221.359],\n",
       " ['12', 12, 13, 30, 30, 221.359]]"
      ]
     },
     "execution_count": 7,
     "metadata": {},
     "output_type": "execute_result"
    }
   ],
   "source": [
    "tbl_sub_elementos = []\n",
    "dic_sub_elementos = {}\n",
    "id_elementos = 0\n",
    "for i in range(len(tbl_Elem)):\n",
    "    Elemento = elementos[i]\n",
    "    b = elementos[i].b\n",
    "    h = elementos[i].h\n",
    "    E = elementos[i].E\n",
    "    angulo = Elemento.ang\n",
    "    for j in range(sub):\n",
    "        id_elementos += 1\n",
    "        ci = coor_sub_elementos[i][j]\n",
    "        cf = coor_sub_elementos[i][j+1]\n",
    "        N = 0\n",
    "        for m in range(len(tbl_sub_nodos)):\n",
    "            N = m+1\n",
    "            if dic_sub_nodos[N] == ci:\n",
    "                Ni = N\n",
    "            if dic_sub_nodos[N] == cf:\n",
    "                Nf = N\n",
    "        tbl_sub_elementos.append([str(id_elementos), Ni, Nf, b, h, E])\n",
    "        dic_sub_elementos[str(id_elementos)] = [str(id_elementos), Ni, Nf, b, h, E]\n",
    "        #print(Ni,Nf)\n",
    "tbl_sub_elementos           "
   ]
  },
  {
   "cell_type": "code",
   "execution_count": 8,
   "id": "77c6a02b",
   "metadata": {},
   "outputs": [
    {
     "ename": "NameError",
     "evalue": "name 'sub_tbl_elementos' is not defined",
     "output_type": "error",
     "traceback": [
      "\u001b[1;31m---------------------------------------------------------------------------\u001b[0m",
      "\u001b[1;31mNameError\u001b[0m                                 Traceback (most recent call last)",
      "\u001b[1;32m~\\AppData\\Local\\Temp\\ipykernel_6940\\4048464951.py\u001b[0m in \u001b[0;36m<module>\u001b[1;34m\u001b[0m\n\u001b[0;32m      1\u001b[0m \u001b[0msub_elementos\u001b[0m \u001b[1;33m=\u001b[0m \u001b[1;33m[\u001b[0m\u001b[1;33m]\u001b[0m \u001b[1;31m# Almacena todos los elementos con sus propiedades\u001b[0m\u001b[1;33m\u001b[0m\u001b[1;33m\u001b[0m\u001b[0m\n\u001b[0;32m      2\u001b[0m \u001b[1;33m\u001b[0m\u001b[0m\n\u001b[1;32m----> 3\u001b[1;33m \u001b[1;32mfor\u001b[0m \u001b[0mi\u001b[0m \u001b[1;32min\u001b[0m \u001b[0mrange\u001b[0m\u001b[1;33m(\u001b[0m\u001b[0mlen\u001b[0m\u001b[1;33m(\u001b[0m\u001b[0msub_tbl_elementos\u001b[0m\u001b[1;33m)\u001b[0m\u001b[1;33m)\u001b[0m\u001b[1;33m:\u001b[0m\u001b[1;33m\u001b[0m\u001b[1;33m\u001b[0m\u001b[0m\n\u001b[0m\u001b[0;32m      4\u001b[0m     \u001b[0mNi\u001b[0m \u001b[1;33m=\u001b[0m \u001b[0msub_tbl_elementos\u001b[0m\u001b[1;33m[\u001b[0m\u001b[0mi\u001b[0m\u001b[1;33m]\u001b[0m\u001b[1;33m[\u001b[0m\u001b[1;36m1\u001b[0m\u001b[1;33m]\u001b[0m\u001b[1;33m\u001b[0m\u001b[1;33m\u001b[0m\u001b[0m\n\u001b[0;32m      5\u001b[0m     \u001b[0mNf\u001b[0m \u001b[1;33m=\u001b[0m \u001b[0msub_tbl_elementos\u001b[0m\u001b[1;33m[\u001b[0m\u001b[0mi\u001b[0m\u001b[1;33m]\u001b[0m\u001b[1;33m[\u001b[0m\u001b[1;36m2\u001b[0m\u001b[1;33m]\u001b[0m\u001b[1;33m\u001b[0m\u001b[1;33m\u001b[0m\u001b[0m\n",
      "\u001b[1;31mNameError\u001b[0m: name 'sub_tbl_elementos' is not defined"
     ]
    }
   ],
   "source": [
    "sub_elementos = [] # Almacena todos los elementos con sus propiedades\n",
    "\n",
    "for i in range(len(sub_tbl_elementos)):\n",
    "    Ni = sub_tbl_elementos[i][1]\n",
    "    Nf = sub_tbl_elementos[i][2]\n",
    "    b = sub_tbl_elementos[i][3]\n",
    "    h = sub_tbl_elementos[i][4]\n",
    "    Ele = sub_tbl_elementos[i][0]    \n",
    "    conexion = [Ele, Ni, Nf]\n",
    "    xi = dic_sub_nodos[Ni][0]\n",
    "    yi = dic_sub_nodos[Ni][1]\n",
    "    xf = dic_sub_nodos[Nf][0]\n",
    "    yf = dic_sub_nodos[Nf][1]     \n",
    "    barra = Elemento(Ele,b, h, E, xi, yi, xf, yf, conexion)\n",
    "    sub_elementos.append(barra) # Almacena elemento"
   ]
  },
  {
   "cell_type": "code",
   "execution_count": 154,
   "id": "e92c1264",
   "metadata": {},
   "outputs": [],
   "source": [
    "# Obtener cargar externas para los sub elementos\n",
    "tbl_sub_F_W = []\n",
    "\n",
    "for i in range(len(tbl_Fuer_W)):\n",
    "    Elemento = tbl_Fuer_W[i][0]\n",
    "    wi = tbl_Fuer_W[i][3]\n",
    "    wf = tbl_Fuer_W[i][4]\n",
    "    L = 0\n",
    "    \n",
    "    for n in range(len(elementos)): # Extra la longitud del elemento sin sub...\n",
    "        if Elemento == elementos[n].Elem:\n",
    "            L = elementos[n].L\n",
    "            \n",
    "    for j in range(sub):\n",
    "        Elem = diccionario_sub_E[Elemento][j][0]\n",
    "        ################################################\n",
    "        ##################################################\n",
    "        \n",
    "        # Carga distibuida rectangular\n",
    "        #print(wi, wf)\n",
    "        if wi == wf:\n",
    "            \n",
    "            L_unitaria = L/sub*(j+1)\n",
    "            #print(L_unitaria)\n",
    "            sub_W = wi\n",
    "            tbl_sub_F_W.append([Elem, L/sub*j, L_unitaria,sub_W , sub_W])\n",
    "            \n",
    "            \n",
    "        #########################################################\n",
    "        ##############################################################\n",
    "            \n",
    "        # Carga distibuida triangular decreciente\n",
    "        \n",
    "        if  abs(wi) > 0  and abs(wf) == 0:\n",
    "            \n",
    "            W = wi\n",
    "            L_unitaria = L/sub\n",
    "            sub_wi = (W * L_unitaria * j) /L \n",
    "            sub_wf = (W * L_unitaria * (j+1))/L\n",
    "            tbl_sub_F_W.append([Elem, 0, L_unitaria,sub_wi , sub_wf])\n",
    "        \n",
    "        \n",
    "        # Carga distibuida triangular creciente\n",
    "        if  abs(wf) > 0  and abs(wi) == 0:\n",
    "            \n",
    "            W = wf\n",
    "            L_unitaria = L/sub\n",
    "            sub_wi = (W * L_unitaria * j) /L \n",
    "            sub_wf = (W * L_unitaria * (j+1))/L\n",
    "            tbl_sub_F_W.append([Elem, 0, L_unitaria,sub_wi , sub_wf])\n",
    "        \n",
    "        # Carga distibuida trapezoidal decreciente\n",
    "        if  abs(wi) > abs(wf) and abs(wf) > 0:\n",
    "            \n",
    "            W = (wi - wf)\n",
    "            L_unitaria = L/sub\n",
    "            sub_wi = (W * L_unitaria * j) /L + wf\n",
    "            sub_wf = (W * L_unitaria * (j+1))/L + wf\n",
    "            tbl_sub_F_W.append([Elem, 0, L_unitaria,sub_wi , sub_wf])\n",
    "        \n",
    "        # Carga distibuida trapezoidal creciente\n",
    "        if  abs(wi) < abs(wf) and abs(wi) > 0:\n",
    "            \n",
    "            W = (wf - wi)\n",
    "            L_unitaria = L/sub\n",
    "            sub_wi = wi + (W * L_unitaria * j) /L\n",
    "            sub_wf = wi + (W * L_unitaria * (j+1))/L\n",
    "            tbl_sub_F_W.append([Elem, 0, L_unitaria,sub_wi , sub_wf])\n"
   ]
  },
  {
   "cell_type": "code",
   "execution_count": 155,
   "id": "a147f437",
   "metadata": {},
   "outputs": [
    {
     "name": "stdout",
     "output_type": "stream",
     "text": [
      "1\n",
      "2\n",
      "3\n",
      "4\n",
      "5\n",
      "6\n",
      "7\n",
      "8\n",
      "9\n",
      "10\n",
      "11\n",
      "12\n",
      "13\n",
      "1\n",
      "2\n",
      "3\n",
      "4\n",
      "5\n",
      "6\n",
      "7\n",
      "8\n",
      "9\n",
      "10\n",
      "11\n",
      "12\n",
      "13\n"
     ]
    },
    {
     "data": {
      "text/plain": [
       "[['Empotrado', 1], ['Articulado', 9]]"
      ]
     },
     "execution_count": 155,
     "metadata": {},
     "output_type": "execute_result"
    }
   ],
   "source": [
    "tbl_sub_restricciones = []\n",
    "\n",
    "for j in range(len(tbl_Rest)):\n",
    "    N_rest = tbl_Rest[j][1]\n",
    "    sub_N_rest = sub * N_rest - (sub-1)\n",
    "    tipo = tbl_Rest[j][0]\n",
    "    #print(sub_N_rest)\n",
    "    for i in range(len(tbl_sub_nodos)):\n",
    "        sub_N = i+1\n",
    "        print(sub_N)\n",
    "        if sub_N == sub_N_rest:\n",
    "            if sub_N_rest != 1:\n",
    "                tbl_sub_restricciones.append([tipo, sub_N-sub])\n",
    "            else:\n",
    "                tbl_sub_restricciones.append([tipo, sub_N])\n",
    "        \n",
    "tbl_sub_restricciones"
   ]
  },
  {
   "cell_type": "code",
   "execution_count": 156,
   "id": "47516e7c",
   "metadata": {},
   "outputs": [
    {
     "data": {
      "text/plain": [
       "[['1', 1, 2, 30, 30, 221.359],\n",
       " ['2', 2, 3, 30, 30, 221.359],\n",
       " ['3', 3, 4, 30, 30, 221.359],\n",
       " ['4', 4, 5, 30, 30, 221.359],\n",
       " ['5', 5, 6, 30, 60, 221.359],\n",
       " ['6', 6, 7, 30, 60, 221.359],\n",
       " ['7', 7, 8, 30, 60, 221.359],\n",
       " ['8', 8, 13, 30, 60, 221.359],\n",
       " ['9', 9, 10, 30, 30, 221.359],\n",
       " ['10', 10, 11, 30, 30, 221.359],\n",
       " ['11', 11, 12, 30, 30, 221.359],\n",
       " ['12', 12, 13, 30, 30, 221.359]]"
      ]
     },
     "execution_count": 156,
     "metadata": {},
     "output_type": "execute_result"
    }
   ],
   "source": [
    "tbl_sub_elementos"
   ]
  },
  {
   "cell_type": "code",
   "execution_count": 157,
   "id": "cc6424b3",
   "metadata": {},
   "outputs": [
    {
     "data": {
      "text/plain": [
       "[[1, 0, 0.0],\n",
       " [2, 0, 100.0],\n",
       " [3, 0, 200.0],\n",
       " [4, 0, 300.0],\n",
       " [5, 0, 400.0],\n",
       " [6, 250.0, 400.0],\n",
       " [7, 500.0, 400.0],\n",
       " [8, 750.0, 400.0],\n",
       " [9, 1000, 0.0],\n",
       " [10, 1000, 100.0],\n",
       " [11, 1000, 200.0],\n",
       " [12, 1000, 300.0],\n",
       " [13, 1000, 400.0]]"
      ]
     },
     "execution_count": 157,
     "metadata": {},
     "output_type": "execute_result"
    }
   ],
   "source": [
    "tbl_sub_nodos"
   ]
  },
  {
   "cell_type": "code",
   "execution_count": 158,
   "id": "e3b56c11",
   "metadata": {},
   "outputs": [
    {
     "data": {
      "text/plain": [
       "[['Empotrado', 1], ['Articulado', 9]]"
      ]
     },
     "execution_count": 158,
     "metadata": {},
     "output_type": "execute_result"
    }
   ],
   "source": [
    "tbl_sub_restricciones"
   ]
  },
  {
   "cell_type": "code",
   "execution_count": null,
   "id": "ff5a4d86",
   "metadata": {},
   "outputs": [],
   "source": []
  }
 ],
 "metadata": {
  "kernelspec": {
   "display_name": "Python 3 (ipykernel)",
   "language": "python",
   "name": "python3"
  },
  "language_info": {
   "codemirror_mode": {
    "name": "ipython",
    "version": 3
   },
   "file_extension": ".py",
   "mimetype": "text/x-python",
   "name": "python",
   "nbconvert_exporter": "python",
   "pygments_lexer": "ipython3",
   "version": "3.9.13"
  }
 },
 "nbformat": 4,
 "nbformat_minor": 5
}
