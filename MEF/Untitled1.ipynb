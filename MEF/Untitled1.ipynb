{
 "cells": [
  {
   "cell_type": "code",
   "execution_count": 1,
   "id": "21e71459",
   "metadata": {},
   "outputs": [],
   "source": [
    "import numpy as np\n",
    "from math import cos, sin, radians, sqrt, pi, atan, tan\n"
   ]
  },
  {
   "cell_type": "code",
   "execution_count": 9,
   "id": "ffe9d6cd",
   "metadata": {},
   "outputs": [],
   "source": [
    "class Elemento():\n",
    "    def __init__(self,elemento, base, altura, moduloElastico, coordenada_xi, coordenada_yi, coordenada_xf, coordenada_yf, conexion):\n",
    "        \n",
    "        self.Elem = elemento\n",
    "        self.b = base\n",
    "        self.h = altura\n",
    "        self.E = moduloElastico\n",
    "        self.cxi = coordenada_xi\n",
    "        self.cyi = coordenada_yi\n",
    "        self.cxf = coordenada_xf\n",
    "        self.cyf = coordenada_yf\n",
    "        self.conex = conexion\n",
    "        # Propiedades del elemento\n",
    "        self.A = self.Area()\n",
    "        self.I = self.Inercia()\n",
    "        self.L = self.Longitud()\n",
    "        self.ang = self.Angulo()\n",
    "        self.l = self.coseno()\n",
    "        self.m = self.seno()\n",
    "\n",
    "    # Propiedades del elemento\n",
    "\n",
    "    def Area(self):\n",
    "        return self.b * self.h\n",
    "    def Inercia(self):\n",
    "        return (self.b * self.h**3) / 12\n",
    "    def Longitud(self):\n",
    "        return sqrt((self.cxf - self.cxi)**2 + (self.cyf - self.cyi)**2)\n",
    "    def Angulo(self):\n",
    "        b = (self.cxf - self.cxi)\n",
    "        h = (self.cyf - self.cyi)\n",
    "        try:\n",
    "            angulo = atan(h/b)*180/pi\n",
    "        except ZeroDivisionError:\n",
    "            angulo = 90\n",
    "        return angulo\n",
    "\n",
    "    def seno(self):\n",
    "        return sin(radians(self.ang))\n",
    "\n",
    "    def coseno(self):\n",
    "        return cos(radians(self.ang))        \n",
    "\n"
   ]
  },
  {
   "cell_type": "code",
   "execution_count": 3,
   "id": "bed01cde",
   "metadata": {},
   "outputs": [],
   "source": [
    "\n",
    "E  = 21*(1000**2)\n",
    "\n",
    "tbl_Elem = [\n",
    "    \n",
    "  # Elem, Ni, Nf, b, h, E,\n",
    "    [\"1\", 1, 2, 0.4, 0.4, E],\n",
    "    [\"2\", 2, 3, 0.3, 0.3, E],\n",
    "    [\"3\", 2, 5, 0.2, 0.5, E],\n",
    "    [\"4\", 3, 6, 0.2, 0.5, E],\n",
    "    [\"5\", 4, 5, 0.4, 0.4, E],\n",
    "    [\"6\", 5, 6, 0.3, 0.3, E],\n",
    "    [\"7\", 5, 7, 0.2, 0.5, E],\n",
    "    [\"8\", 7, 9, 0.2, 0.5, E],\n",
    "    [\"9\", 8, 9, 0.4, 0.4, E],\n",
    "\n",
    "\n",
    "    ]\n",
    "    \n",
    "tbl_Nod = [\n",
    "    #Nodo, cx, cy\n",
    "    [1, 0, 0],\n",
    "    [2, 0, 4],\n",
    "    [3, 0, 7],\n",
    "    [4, 5.2, 0],\n",
    "    [5, 5.2, 4],\n",
    "    [6, 5.2, 7],\n",
    "    [7, 7.8, 4],\n",
    "    [8, 10.1, 1.5],\n",
    "    [9, 10.1, 4],\n",
    "\n",
    "    ]\n",
    "\n",
    "\n",
    "tbl_Fuer = [\n",
    "    #Nod, fx, fy, Mz\n",
    "    [7, 0, -20, 0],\n",
    "\n",
    "  \n",
    "    ]\n",
    "\n",
    "tbl_Fuer_W = [\n",
    "    #Elem, Li,Lf, Wi, Wf\n",
    "    [\"1\", 0, 2, 0, ((10*4)/7)],\n",
    "    [\"2\",2, 7,  ((10*4)/7), 10],\n",
    "    [\"3\",0, 5.2,  -8, -8], #\"\"\"CASO ANALIZAR######################\n",
    "    [\"4\", 0, 5.2, -8, -8],\n",
    "    [\"7\",0, 2.6,  -8, -8,],\n",
    "    [\"8\",0, 2.3,  -8, -8,],\n",
    "\n",
    "    ]\n",
    "\n",
    "tbl_Rest = [\n",
    "        #Tipo de Apoyo, Nodo\n",
    "        # Simple\n",
    "        # Articulado\n",
    "        # Empotrado\n",
    "    [\"Empotrado\", 1],\n",
    "    [\"Empotrado\", 4,],\n",
    "    [\"Empotrado\", 8,],\n",
    "\n",
    "    ]\n",
    "\n",
    "\n",
    "\"\"\"====Diccionarios====\"\"\"\n",
    "# ==============Diccionarios de elementos==================#\n",
    "\n",
    "diccionarioE = {}\n",
    "\n",
    "for i in range(len(tbl_Elem)):\n",
    "    Elem = tbl_Elem[i][0]\n",
    "    Ni = tbl_Elem[i][1]\n",
    "    Nf = tbl_Elem[i][2]\n",
    "    b = tbl_Elem[i][3]\n",
    "    h = tbl_Elem[i][4]\n",
    "    E = tbl_Elem[i][5]   \n",
    "    diccionarioE[Elem] = [Ni, Nf, b, h, E]\n",
    "\n",
    "# ==============Diccionarios de nodos==================#\n",
    "    \n",
    "diccionarioN = {}\n",
    "\n",
    "for i in range(len(tbl_Nod)):\n",
    "    Nod = tbl_Nod[i][0]\n",
    "    cx = tbl_Nod[i][1]\n",
    "    cy = tbl_Nod[i][2]\n",
    "    diccionarioN[Nod] = [cx, cy]\n",
    "    "
   ]
  },
  {
   "cell_type": "code",
   "execution_count": 10,
   "id": "328fa6ef",
   "metadata": {},
   "outputs": [],
   "source": [
    "elementos = [] # Almacena todos los elementos con sus propiedades\n",
    "\n",
    "def ext_elem(): # Elementos fuera del analisis\n",
    "\n",
    "    for i in range(len(tbl_Elem)):\n",
    "        Ni = tbl_Elem[i][1]\n",
    "        Nf = tbl_Elem[i][2]\n",
    "        b = tbl_Elem[i][3]\n",
    "        h = tbl_Elem[i][4]\n",
    "        Ele = tbl_Elem[i][0]    \n",
    "        conexion = [Ele, Ni, Nf]\n",
    "        xi = diccionarioN[Ni][0]\n",
    "        yi = diccionarioN[Ni][1]\n",
    "        xf = diccionarioN[Nf][0]\n",
    "        yf = diccionarioN[Nf][1]     \n",
    "        barra = Elemento(Ele,b, h, E, xi, yi, xf, yf, conexion)\n",
    "        elementos.append(barra) # Almacena elemento\n",
    "    return elementos\n",
    "\n",
    "\n",
    "elementos = ext_elem()\n",
    "        "
   ]
  },
  {
   "cell_type": "code",
   "execution_count": 42,
   "id": "2c22354e",
   "metadata": {},
   "outputs": [
    {
     "data": {
      "text/plain": [
       "[[0, 0.0],\n",
       " [0, 4.0],\n",
       " [0, 7.0],\n",
       " [5.2, 4],\n",
       " [5.2, 7],\n",
       " [5.2, 0.0],\n",
       " [7.8, 4],\n",
       " [10.1, 4],\n",
       " [10.1, 1.5]]"
      ]
     },
     "execution_count": 42,
     "metadata": {},
     "output_type": "execute_result"
    }
   ],
   "source": [
    "sub = 1\n",
    "coordenadas = []\n",
    "coor_sub_elementos = []\n",
    "cheq = []\n",
    "for i in range(len(tbl_Elem)):\n",
    "    coor_p = []\n",
    "    Elemento = elementos[i]\n",
    "    L = Elemento.L\n",
    "    L_unitaria = L / sub\n",
    "    Ni = Elemento.conex[1]\n",
    "    Nf = Elemento.conex[2]\n",
    "    cxi = Elemento.cxi\n",
    "    cyi = Elemento.cyi\n",
    "    cxf = Elemento.cxf\n",
    "    cyf = Elemento.cyf\n",
    "    angulo = Elemento.ang\n",
    "    cont = 0\n",
    "    cx = 0\n",
    "    cy = 0\n",
    "    for j in range(sub+1):\n",
    "        if angulo == 0: \n",
    "            cy = Elemento.cyi\n",
    "            cx = Elemento.cxi + L_unitaria*j\n",
    "            coor_p.append([cx,cy])\n",
    "            \n",
    "        if cont < sub:  \n",
    "            if angulo == 0: \n",
    "                cont += 1 \n",
    "                cy = Elemento.cyi\n",
    "                cx = Elemento.cxi + L_unitaria*j\n",
    "                cheq.append([cx,cy])\n",
    "                #if cheq.count([cx, cy]) < 2: # Se chequea si la coord ya esta incluida\n",
    "                    #coordenadas.append([cx,cy])\n",
    "                    \n",
    "        # Elementos verticales\n",
    "        if angulo == 90:\n",
    "            cx = Elemento.cxi\n",
    "            cy = Elemento.cyi + L_unitaria*j            \n",
    "            cheq.append([cx,cy])\n",
    "            coor_p.append([cx,cy])\n",
    "            #if cheq.count([cx, cy]) < 2: # Se chequea si la coord ya esta incluida\n",
    "                #coordenadas.append([cx,cy])\n",
    "        # Elementos inclinados crecientes\n",
    "        \n",
    "        elif angulo > 0 and ang < 90:\n",
    "            \"\"\"estos fracmento forman l_uni en un triangulo rectangulo\"\"\"\n",
    "            Ly_uni =  L_unitaria* sqrt(1/(1+(1/(tan(radians(ang))**2)))) # Longitud del fracmento en y\n",
    "            Lx_uni = Ly_uni/tan(radians(ang)) # Longitud del fracmento en x\n",
    "            cx = Elemento.cxi + Lx_uni*j\n",
    "            cy = Elemento.cyi + Ly_uni*j\n",
    "            \n",
    "            #print(\"j=\",j, \"Ly= \",Ly_uni,\"Lx= \",Lx_uni, \"cx= \",cx, \"cy= \", cy)\n",
    "            cheq.append([cx,cy])\n",
    "            coor_p.append([cx,cy])\n",
    "            #if cheq.count([cx, cy]) < 2: # Se chequea si la coord ya esta incluida\n",
    "                #coordenadas.append([cx,cy])\n",
    "                \n",
    "        # Elementos inclinados decrecientes\n",
    "        elif angulo < 0:\n",
    "            Ly_uni =  L_unitaria* sqrt(1/(1+(1/(tan(radians(ang))**2)))) # Longitud del fracmento en y\n",
    "            Lx_uni = Ly/tan(radians(ang)) # Longitud del fracmento en x\n",
    "            cx = Elemento.cxi - Lx_uni*j\n",
    "            cy = Elemento.cyi - Ly_uni*j\n",
    "            \n",
    "            cheq.append([cx,cy])\n",
    "            coor_p.append([cx,cy])\n",
    "            #if cheq.count([cx, cy]) < 2: # Se chequea si la coord ya esta incluida\n",
    "                #coordenadas.append([cx,cy])\n",
    "        if [cx, cy] not in coordenadas: # Se chequea si la coord ya esta incluida\n",
    "                    coordenadas.append([cx,cy])\n",
    "    coor_sub_elementos.append(coor_p)\n",
    "coordenadas"
   ]
  },
  {
   "cell_type": "code",
   "execution_count": 43,
   "id": "029fac35",
   "metadata": {},
   "outputs": [
    {
     "name": "stdout",
     "output_type": "stream",
     "text": [
      "[0, 0.0] 1 veces\n",
      "[0, 4.0] 1 veces\n",
      "[0, 7.0] 1 veces\n",
      "[5.2, 4] 1 veces\n",
      "[5.2, 7] 1 veces\n",
      "[5.2, 0.0] 1 veces\n",
      "[7.8, 4] 1 veces\n",
      "[10.1, 4] 1 veces\n",
      "[10.1, 1.5] 1 veces\n"
     ]
    },
    {
     "data": {
      "text/plain": [
       "9"
      ]
     },
     "execution_count": 43,
     "metadata": {},
     "output_type": "execute_result"
    }
   ],
   "source": [
    "for i in coordenadas:\n",
    "    print(i, coordenadas.count(i),  \"veces\")\n",
    "len(coordenadas)"
   ]
  },
  {
   "cell_type": "code",
   "execution_count": 31,
   "id": "f6723623",
   "metadata": {},
   "outputs": [
    {
     "name": "stdout",
     "output_type": "stream",
     "text": [
      "indice: 6\n",
      "indice: 8\n",
      "indice: 6\n",
      "indice: 8\n",
      "indice: 18\n",
      "indice: 18\n"
     ]
    },
    {
     "data": {
      "text/plain": [
       "22"
      ]
     },
     "execution_count": 31,
     "metadata": {},
     "output_type": "execute_result"
    }
   ],
   "source": [
    "for i in coordenadas:\n",
    "    if coordenadas.count(i) > 1:\n",
    "        #coordenadas.index(i)\n",
    "        print(\"indice:\", coordenadas.index(i))\n",
    "len(coordenadas)\n",
    "\n"
   ]
  },
  {
   "cell_type": "code",
   "execution_count": 36,
   "id": "4ab0c00f",
   "metadata": {},
   "outputs": [
    {
     "ename": "TypeError",
     "evalue": "unhashable type: 'list'",
     "output_type": "error",
     "traceback": [
      "\u001b[1;31m---------------------------------------------------------------------------\u001b[0m",
      "\u001b[1;31mTypeError\u001b[0m                                 Traceback (most recent call last)",
      "\u001b[1;32m~\\AppData\\Local\\Temp\\ipykernel_14468\\2045164962.py\u001b[0m in \u001b[0;36m<module>\u001b[1;34m\u001b[0m\n\u001b[1;32m----> 1\u001b[1;33m \u001b[0mset\u001b[0m\u001b[1;33m(\u001b[0m\u001b[0mcoordenadas\u001b[0m\u001b[1;33m)\u001b[0m\u001b[1;33m\u001b[0m\u001b[1;33m\u001b[0m\u001b[0m\n\u001b[0m",
      "\u001b[1;31mTypeError\u001b[0m: unhashable type: 'list'"
     ]
    }
   ],
   "source": [
    "set(coordenadas)"
   ]
  }
 ],
 "metadata": {
  "kernelspec": {
   "display_name": "Python 3 (ipykernel)",
   "language": "python",
   "name": "python3"
  },
  "language_info": {
   "codemirror_mode": {
    "name": "ipython",
    "version": 3
   },
   "file_extension": ".py",
   "mimetype": "text/x-python",
   "name": "python",
   "nbconvert_exporter": "python",
   "pygments_lexer": "ipython3",
   "version": "3.9.13"
  }
 },
 "nbformat": 4,
 "nbformat_minor": 5
}
